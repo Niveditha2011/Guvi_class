{
 "cells": [
  {
   "cell_type": "code",
   "execution_count": 5,
   "metadata": {},
   "outputs": [
    {
     "name": "stdout",
     "output_type": "stream",
     "text": [
      "Valid card\n",
      "Granted\n",
      "balance amount 6000\n"
     ]
    }
   ],
   "source": [
    "#ATM example\n",
    "balance=10000\n",
    "card=input(\"Enter card No:\")\n",
    "if card==\"111\":\n",
    "    print(\"Valid card\")\n",
    "    pin=input(\"Enter pin:\")\n",
    "    if pin==\"1234\":\n",
    "        print(\"Granted\")\n",
    "        action=input(\"Enter withdrawal/deposit\")\n",
    "        if action==\"withdrawal\" or action==\"deposit\":\n",
    "            amount=int(input(\"Enter amount:\"))\n",
    "            if amount<balance:\n",
    "                print(\"balance amount\",balance-amount)\n",
    "            else:\n",
    "                print(\"insufficient cash\")\n",
    "        elif action==\"deposit\":\n",
    "            amount=int(input(\"Enter amount:\"))\n",
    "            print(\"your balance:\",amount+balance)\n",
    "        else:\n",
    "            print(\"Error: select valid action\")\n",
    "    else:\n",
    "        print(\"Invalid pin no.\")\n",
    "else:\n",
    "    print(\"Invalid card\")"
   ]
  },
  {
   "cell_type": "code",
   "execution_count": null,
   "metadata": {},
   "outputs": [
    {
     "name": "stdout",
     "output_type": "stream",
     "text": [
      "shop closed\n",
      "shop closed\n"
     ]
    }
   ],
   "source": []
  },
  {
   "cell_type": "code",
   "execution_count": 2,
   "metadata": {},
   "outputs": [
    {
     "name": "stdout",
     "output_type": "stream",
     "text": [
      "rajinikanth\n",
      "kamalhasan\n",
      "aliabhat\n"
     ]
    }
   ],
   "source": [
    "for i in [\"rajini\", \"kamal\", \"alia\"]:\n",
    "    for j in [\"kanth\",\"hasan\", \"bhat\"]:\n",
    "       globals().setdefault(\"result\", [])\n",
    "       if j not in result:\n",
    "           result.append(j)\n",
    "    globals().setdefault(\"res\", [])\n",
    "    if i not in res:\n",
    "        res.append(i)\n",
    "        \n",
    "        \n",
    "for x in range(len(res)) :\n",
    "    for y in range(len(result)) :\n",
    "        if(x==y) :\n",
    "            print(res[x]+result[y])\n",
    "\n"
   ]
  },
  {
   "cell_type": "code",
   "execution_count": 5,
   "metadata": {},
   "outputs": [
    {
     "name": "stdout",
     "output_type": "stream",
     "text": [
      "rajini kanth\n",
      "kamal haasan\n",
      "alia bhatt\n"
     ]
    }
   ],
   "source": [
    "index = 0  \n",
    "\n",
    "for i in [\"rajini\", \"kamal\", \"alia\"]:\n",
    "    for j in [\"kanth\", \"haasan\", \"bhatt\"]:\n",
    "        if index % 4 == 0:  \n",
    "            print(i + \" \" + j)\n",
    "        index += 1 \n",
    "\n"
   ]
  }
 ],
 "metadata": {
  "kernelspec": {
   "display_name": "Python 3",
   "language": "python",
   "name": "python3"
  },
  "language_info": {
   "codemirror_mode": {
    "name": "ipython",
    "version": 3
   },
   "file_extension": ".py",
   "mimetype": "text/x-python",
   "name": "python",
   "nbconvert_exporter": "python",
   "pygments_lexer": "ipython3",
   "version": "3.12.8"
  }
 },
 "nbformat": 4,
 "nbformat_minor": 2
}
