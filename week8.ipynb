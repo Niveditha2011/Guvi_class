{
 "cells": [
  {
   "cell_type": "code",
   "execution_count": null,
   "metadata": {},
   "outputs": [],
   "source": [
    "!pip install ipykernel"
   ]
  },
  {
   "cell_type": "code",
   "execution_count": null,
   "metadata": {},
   "outputs": [],
   "source": [
    "!pip install --upgrade nbformat"
   ]
  },
  {
   "cell_type": "code",
   "execution_count": null,
   "metadata": {},
   "outputs": [],
   "source": [
    "!pip install nbformat"
   ]
  },
  {
   "cell_type": "code",
   "execution_count": null,
   "metadata": {},
   "outputs": [],
   "source": [
    "!pip install plotly"
   ]
  },
  {
   "cell_type": "code",
   "execution_count": null,
   "metadata": {},
   "outputs": [],
   "source": [
    "!pip install matplotlib"
   ]
  },
  {
   "cell_type": "code",
   "execution_count": null,
   "metadata": {},
   "outputs": [],
   "source": [
    "import plotly.express as px\n",
    "random_x = [100, 2000, 550]\n",
    "names = ['A', 'B', 'C']\n",
    "fig = px.pie(values=random_x, names=names)\n",
    "fig.show()"
   ]
  },
  {
   "cell_type": "code",
   "execution_count": null,
   "metadata": {},
   "outputs": [],
   "source": [
    "# x and y given as array_like objects\n",
    "import plotly.express as px\n",
    "#fig = px.line(x=[0, 1, 2, 3, 4], y=[0, 1, 4, 9, 16])\n",
    "fig = px.bar(x=[0, 1, 2, 3, 4], y=[0, 1, 4, 9, 16])\n",
    "#fig = px.scatter(x=[0, 1, 2, 3, 4], y=[0, 1, 4, 9, 16])\n",
    "fig.show()\n"
   ]
  },
  {
   "cell_type": "code",
   "execution_count": null,
   "metadata": {},
   "outputs": [],
   "source": [
    "import plotly.express as px\n",
    "df = px.data.gapminder().query(\"year == 2007\")\n",
    "display(df)\n",
    "# fig = px.scatter_geo(df, locations=\"iso_alpha\",\n",
    "#                     size=\"pop\", # size of markers, \"pop\" is one of the columns of gapminder\n",
    "#                     )\n",
    "# fig"
   ]
  },
  {
   "cell_type": "code",
   "execution_count": null,
   "metadata": {},
   "outputs": [],
   "source": [
    "import plotly.express as px\n",
    "df = px.data.gapminder().query(\"year == 2007\")\n",
    "fig = px.scatter_geo(df, locations=\"iso_alpha\",\n",
    "                    size=\"pop\", # size of markers, \"pop\" is one of the columns of gapminder\n",
    "                    )\n",
    "fig"
   ]
  },
  {
   "cell_type": "code",
   "execution_count": null,
   "metadata": {},
   "outputs": [],
   "source": [
    "import pandas as pd\n",
    "import matplotlib.pyplot as plt\n",
    "# Load the data\n",
    "hi = pd.read_csv(\"https://raw.githubusercontent.com/nethajinirmal13/Training-datasets/refs/heads/main/zomato/zomato.csv\")\n",
    "hi.info()"
   ]
  },
  {
   "cell_type": "code",
   "execution_count": null,
   "metadata": {},
   "outputs": [],
   "source": [
    "import plotly.express as px\n",
    "# Assuming 'hi' DataFrame is already loaded and has columns 'Restaurant ID', 'Latitude', and 'Longitude'\n",
    "# Replace column names if they are different in your dataframe.\n",
    "fig = px.scatter_mapbox(hi, lat=\"Latitude\", lon=\"Longitude\", hover_name=\"Restaurant ID\", hover_data=[\"Restaurant ID\"],\n",
    "                       color_discrete_sequence=[\"fuchsia\"], zoom=1, height=300)\n",
    "fig.update_layout(mapbox_style=\"open-street-map\")\n",
    "fig.update_layout(margin={\"r\":0,\"t\":0,\"l\":0,\"b\":0})\n",
    "fig.show()\n",
    "\n",
    "# \"open-street-map\": Standard street map.\n",
    "# \"carto-positron\": Light-themed map.\n",
    "# \"carto-darkmatter\": Dark-themed map.\n",
    "# \"stamen-terrain\": Terrain-focused map.\n",
    "# \"stamen-toner\": High-contrast, black-and-white map.\n",
    "# \"stamen-watercolor\": Artistic, watercolor-style map"
   ]
  },
  {
   "cell_type": "code",
   "execution_count": null,
   "metadata": {},
   "outputs": [],
   "source": [
    "# prompt: draw a px.scatter animation using the above medal data with country year and total medals avoid nan values\n",
    "\n",
    "\n",
    "import plotly.express as px\n",
    "import pandas as pd\n",
    "\n",
    "\n",
    "medal = pd.read_csv(\"https://raw.githubusercontent.com/nethajinirmal13/Training-datasets/main/COMMONWEALTH%20GAMES%201930-2018%20%20-%20MEDAL%20TALLY.csv\")\n",
    "\n",
    "\n",
    "# Convert 'Total' column to numeric, handling errors\n",
    "medal['Total'] = pd.to_numeric(medal['Total'], errors='coerce')\n",
    "\n",
    "\n",
    "# Drop rows with NaN values in 'Total'\n",
    "medal = medal.dropna(subset=['Total'])\n",
    "\n",
    "\n",
    "# Create the scatter animation\n",
    "fig = px.scatter(medal, x=\"Country\", y=\"Total\", animation_frame=\"Year\",\n",
    "                animation_group=\"Country\", size=\"Total\", color=\"Country\",\n",
    "                hover_name=\"Country\", title=\"Medal Count Animation\")\n",
    "fig.show()\n",
    "\n"
   ]
  },
  {
   "cell_type": "code",
   "execution_count": null,
   "metadata": {},
   "outputs": [],
   "source": [
    " import plotly.express as px\n",
    "df = px.data.gapminder()\n",
    "px.scatter(df, x=\"gdpPercap\", y=\"lifeExp\", animation_frame=\"year\", animation_group=\"country\",\n",
    "         size=\"pop\", color=\"continent\", hover_name=\"country\",)"
   ]
  },
  {
   "cell_type": "code",
   "execution_count": null,
   "metadata": {},
   "outputs": [],
   "source": [
    "# prompt: draw a sunburst chart using the above df data\n",
    "\n",
    "\n",
    "import pandas as pd\n",
    "import plotly.express as px\n",
    "\n",
    "\n",
    "# Load the dataset (assuming 'df' is already loaded as shown in your code)\n",
    "df = pd.read_csv(\"https://raw.githubusercontent.com/nethajinirmal13/Training-datasets/main/COMMONWEALTH%20GAMES%201930-2018%20%20-%20MEDAL%20TALLY.csv\")\n",
    "\n",
    "\n",
    "# Prepare the data for the sunburst chart\n",
    "# Assuming you want to visualize medals by Year, Country, and Total medals\n",
    "# Replace 'Total' with the actual column name if different\n",
    "df['Total'] = pd.to_numeric(df['Total'], errors='coerce')  # Convert to numeric, handle errors\n",
    "\n",
    "\n",
    "fig = px.sunburst(df, path=['Year', 'Country'], values='Total',\n",
    "                 title=\"Commonwealth Games Medals by Year and Country\")\n",
    "\n",
    "\n",
    "fig.show()\n"
   ]
  },
  {
   "cell_type": "code",
   "execution_count": null,
   "metadata": {},
   "outputs": [],
   "source": [
    "#SEA_BORN\n",
    "\n",
    "\n",
    "import seaborn as sns\n",
    "sns.barplot(x=[\"A\", \"B\", \"C\"], y=[1, 3, 2])\n"
   ]
  },
  {
   "cell_type": "code",
   "execution_count": null,
   "metadata": {},
   "outputs": [],
   "source": [
    "#rocket,rocket_r,viridis,magmaCMRmap', 'CMRmap_r', 'Dark2', 'Dark2_r', 'GnBu', 'GnBu_r', 'Greens', 'Greens_r', 'Greys', 'Greys_r', 'OrRd', 'OrRd_r', 'Oranges', 'Oranges_r', 'PRGn', 'PRGn_r', 'Paired', 'Paired_r', 'Pastel1', 'Pastel1_r', 'Pastel2', 'Pastel2_r', 'PiYG', 'PiYG_r', 'PuBu', 'PuBuGn', 'PuBuGn_r', 'PuBu_r', 'PuOr', 'PuOr_r', 'PuRd', 'PuRd_r', 'Purples', 'Purples_r', 'RdBu', 'RdBu_r', 'RdGy', 'RdGy_r', 'RdPu', 'RdPu_r', 'RdYlBu', 'RdYlBu_r', 'RdYlGn', 'RdYlGn_r', 'Reds', 'Reds_r', 'Set1', 'Set1_r', 'Set2', 'Set2_r', 'Set3', 'Set3_r', 'Spectral', 'Spectral_r', 'Wistia', 'Wistia_r', 'YlGn', 'YlGnBu', 'YlGnBu_r', 'YlGn_r', 'YlOrBr', 'YlOrBr_r', 'YlOrRd', 'YlOrRd_r', 'afmhot', 'afmhot_r', 'autumn', 'autumn_r', 'binary', 'binary_r', 'bone', 'bone_r', 'brg', 'brg_r', 'bwr', 'bwr_r', 'cividis', 'cividis_r', 'cool', 'cool_r', 'coolwarm', 'coolwarm_r', 'copper', 'copper_r', 'crest', 'crest_r', 'cubehelix', 'cubehelix_r', 'flag', 'flag_r', 'flare', 'flare_r', 'gist_earth', 'gist_earth_r', 'gist_gray', 'gist_gray_r', 'gist_heat', 'gist_heat_r', 'gist_ncar', 'gist_ncar_r', 'gist_rainbow', 'gist_rainbow_r', 'gist_stern', 'gist_stern_r', 'gist_yarg', 'gist_yarg_r', 'gnuplot', 'gnuplot2', 'gnuplot2_r', 'gnuplot_r', 'gray', 'gray_r', 'hot', 'hot_r', 'hsv', 'hsv_r', 'icefire', 'icefire_r', 'inferno', 'inferno_r', 'jet', 'jet_r', 'ma...\n",
    "\n",
    "\n",
    "\n",
    "\n",
    "sns.set_theme(style=\"darkgrid\", palette=\"Greens_r\")\n",
    "\n",
    "\n",
    "\n",
    "\n",
    "sns.barplot(x=[\"A\", \"B\", \"C\"], y=[1, 3, 2])\n",
    "sns.color_palette()\n",
    "\n",
    "\n"
   ]
  },
  {
   "cell_type": "code",
   "execution_count": null,
   "metadata": {},
   "outputs": [],
   "source": [
    "import seaborn as sns\n",
    "sns.set_theme(style=\"ticks\")\n",
    "\n",
    "\n",
    "\n",
    "\n",
    "# Load an example dataset with long-form data\n",
    "fmri = sns.load_dataset(\"iris\")\n",
    "# print(fmri)\n",
    "# # Plot the responses for different events and regions\n",
    "# sns.scatterplot(x=\"sepal_length\", y=\"petal_length\",hue=\"species\",data=fmri)\n",
    "# sns.lineplot(x=\"sepal_length\", y=\"petal_length\",hue=\"species\",data=fmri)\n",
    "sns.barplot(x=\"sepal_length\", y=\"species\",data=fmri)\n",
    "#sns.barplot(x=\"species\", y=\"sepal_length\",data=fmri)\n",
    "\n",
    "\n",
    "\n"
   ]
  },
  {
   "cell_type": "code",
   "execution_count": null,
   "metadata": {},
   "outputs": [],
   "source": [
    "import seaborn as sns\n",
    "\n",
    "# Set theme\n",
    "sns.set_theme(style=\"darkgrid\")\n",
    "\n",
    "# Create barplot with 3 distinct colors from \"Greens_r\"\n",
    "sns.barplot(\n",
    "    x=[\"A\", \"B\", \"C\"],\n",
    "    y=[1, 3, 2],\n",
    "    palette=sns.color_palette(\"Greens_r\", 3)  # Get 3 colors from the palette\n",
    ")\n"
   ]
  },
  {
   "cell_type": "code",
   "execution_count": null,
   "metadata": {},
   "outputs": [],
   "source": [
    "import pandas as pd\n",
    "dia=pd.read_csv(\"https://raw.githubusercontent.com/nethajinirmal13/Training-datasets/main/diabetes.csv\")\n",
    "# sns.scatterplot(x=\"Age\", y=\"Pregnancies\",\n",
    "#              hue=\"Outcome\",\n",
    "#              data=dia)\n",
    "sns.lineplot(x=\"BMI\", y=\"Age\",hue=\"Outcome\",data=dia)\n",
    "# sns.barplot(x=\"sepal_length\", y=\"species\",data=fmri)\n",
    "#sns.barplot(x=\"species\", y=\"sepal_length\",data=fmri)\n"
   ]
  },
  {
   "cell_type": "code",
   "execution_count": null,
   "metadata": {},
   "outputs": [],
   "source": [
    "import pandas as pd\n",
    "dia=pd.read_csv(\"https://raw.githubusercontent.com/nethajinirmal13/Training-datasets/main/diabetes.csv\")\n",
    "sns.scatterplot(x=\"Age\", y=\"Pregnancies\",\n",
    "             hue=\"Outcome\",\n",
    "             data=dia)\n",
    "# sns.lineplot(x=\"BMI\", y=\"Age\",hue=\"Outcome\",data=dia)\n",
    "# sns.barplot(x=\"sepal_length\", y=\"species\",data=fmri)\n",
    "#sns.barplot(x=\"species\", y=\"sepal_length\",data=fmri)"
   ]
  },
  {
   "cell_type": "code",
   "execution_count": null,
   "metadata": {},
   "outputs": [],
   "source": [
    "var=sns.load_dataset(\"penguins\")\n",
    "# print(var)\n",
    "sns.displot(var,x=\"body_mass_g\",col=\"species\",row=\"island\",hue=\"sex\")"
   ]
  },
  {
   "cell_type": "code",
   "execution_count": null,
   "metadata": {},
   "outputs": [],
   "source": [
    "sns.lineplot(x=\"flipper_length_mm\",y=\"body_mass_g\",hue=\"species\", data=var)"
   ]
  },
  {
   "cell_type": "code",
   "execution_count": null,
   "metadata": {},
   "outputs": [],
   "source": [
    "sns.scatterplot(y=\"flipper_length_mm\",x=\"body_mass_g\",hue=\"sex\",data=var)"
   ]
  },
  {
   "cell_type": "code",
   "execution_count": null,
   "metadata": {},
   "outputs": [],
   "source": [
    "sns.scatterplot(y=\"flipper_length_mm\",x=\"body_mass_g\",hue=\"sex\",data=var)"
   ]
  },
  {
   "cell_type": "code",
   "execution_count": null,
   "metadata": {},
   "outputs": [],
   "source": [
    "import matplotlib.pyplot as plt\n",
    "import seaborn as sns\n",
    "\n",
    "# Create the plot and assign it to a variable\n",
    "g = sns.displot(\n",
    "    data=var,\n",
    "    x=\"body_mass_g\",\n",
    "    col=\"species\",\n",
    "    row=\"island\",\n",
    "    hue=\"sex\"\n",
    ")\n",
    "\n",
    "# Adjust the layout to make space for the legend\n",
    "plt.subplots_adjust(right=0.8)  # Increase right margin\n",
    "\n",
    "# Reposition the legend to the lower-right corner\n",
    "g._legend.set_bbox_to_anchor((1.25, 0.1))  # Coordinates (right-side, bottom)\n",
    "g._legend.set_loc(\"lower right\")  # Anchor point of the legend\n",
    "\n",
    "plt.show()\n",
    "\n"
   ]
  },
  {
   "cell_type": "code",
   "execution_count": null,
   "metadata": {},
   "outputs": [],
   "source": [
    "import seaborn as sns\n",
    "sns.set_theme(style=\"ticks\", palette=\"pastel\")\n",
    "# Load the example tips dataset\n",
    "tips = sns.load_dataset(\"tips\")\n",
    "print(tips)\n",
    "# Draw a nested boxplot to show bills by day and time\n",
    "# sns.boxplot(x=\"sex\", y=\"total_bill\",\n",
    "#            hue=\"smoker\", palette=[\"m\", \"g\"],\n",
    "#            data=tips)\n",
    "# sns.boxplot(x=\"smoker\",\n",
    "#           hue=\"smoker\", palette=[\"m\", \"g\"],\n",
    "#           data=tips)\n",
    "\n"
   ]
  },
  {
   "cell_type": "code",
   "execution_count": null,
   "metadata": {},
   "outputs": [],
   "source": [
    "sns.boxplot(x=\"sex\", y=\"total_bill\",\n",
    "           hue=\"smoker\", palette=[\"m\", \"g\"],\n",
    "           data=tips)"
   ]
  },
  {
   "cell_type": "code",
   "execution_count": null,
   "metadata": {},
   "outputs": [],
   "source": [
    "sns.boxplot(x=\"size\", y=\"tip\",\n",
    "           hue=\"time\", palette=[\"m\", \"g\"],\n",
    "           data=tips)"
   ]
  },
  {
   "cell_type": "code",
   "execution_count": null,
   "metadata": {},
   "outputs": [],
   "source": [
    "# ML\n",
    "#26/03\n"
   ]
  },
  {
   "cell_type": "code",
   "execution_count": null,
   "metadata": {},
   "outputs": [],
   "source": [
    "import numpy as np\n",
    "x=[1,2,4,3,5]\n",
    "y=[1,3,3,2,5]\n",
    "mean_x = np.mean(x)\n",
    "mean_y = np.mean(y)\n",
    "\n",
    "def linreg(x,y):\n",
    "# Using the formula to calculate b1 and b2\n",
    "    numer = 0\n",
    "    denom = 0\n",
    "    m=len(x)\n",
    "    for i in range(m):\n",
    "       # (calculating m by formula)\n",
    "        numer += (x[i] - mean_x) * (y[i] - mean_y)\n",
    "        denom += (x[i] - mean_x) ** 2\n",
    "    M = numer / denom\n",
    "    c = mean_y - (M*mean_x)\n",
    "    print(M,c)\n",
    "    return M,c\n",
    "\n",
    "a=linreg(x,y)\n",
    "print(a)\n",
    "b=[]\n",
    "for i in x:\n",
    "    b.append((a[0]*i+a[1]))  #y=mx+c\n",
    "print(b)"
   ]
  },
  {
   "cell_type": "code",
   "execution_count": null,
   "metadata": {},
   "outputs": [],
   "source": [
    "# Plot the actual \n",
    "import matplotlib.pyplot as plt\n",
    "plt.scatter(x, y, color='blue', label='Actual Points')\n",
    "# Plot the linear regression line\n",
    "plt.plot(x, b, color='red', label='Linear Regression')\n",
    "# Add labels and title\n",
    "plt.xlabel('X-axis')\n",
    "plt.ylabel('Y-axis')\n",
    "plt.title('Linear Regression Plot')\n",
    "plt.legend()\n",
    "# Display the plot\n",
    "plt.show()"
   ]
  },
  {
   "cell_type": "code",
   "execution_count": null,
   "metadata": {},
   "outputs": [],
   "source": [
    "import pandas as pd\n",
    "data = pd.read_csv(\"https://raw.githubusercontent.com/nethajinirmal13/Training-datasets/main/1.01.%20Simple%20linear%20regression.csv\")\n",
    "data.head()\n",
    "# data.shape\n"
   ]
  },
  {
   "cell_type": "code",
   "execution_count": null,
   "metadata": {},
   "outputs": [],
   "source": [
    "!pip install scikit-learn"
   ]
  },
  {
   "cell_type": "code",
   "execution_count": null,
   "metadata": {},
   "outputs": [],
   "source": [
    "from sklearn.linear_model import LinearRegression\n",
    "feature = data['SAT']\n",
    "target = data['GPA']\n",
    "\n",
    "model = LinearRegression()\n",
    "model.fit(feature.values.reshape(-1,1),target) #reshape - changes the series into 2d dimension , -1 is last row represent , 1- is how table need to be displayed\n",
    "print(model.coef_) # coefficient - slope\n",
    "print(model.intercept_) # constant\n",
    "print(model.predict([[1700]])) # 2 square bracket - 2 d dimension "
   ]
  },
  {
   "cell_type": "code",
   "execution_count": null,
   "metadata": {},
   "outputs": [],
   "source": [
    "a=feature.values.reshape(-1,2)\n",
    "# print(a.shape)\n",
    "print(a)"
   ]
  }
 ],
 "metadata": {
  "kernelspec": {
   "display_name": "Python 3",
   "language": "python",
   "name": "python3"
  },
  "language_info": {
   "codemirror_mode": {
    "name": "ipython",
    "version": 3
   },
   "file_extension": ".py",
   "mimetype": "text/x-python",
   "name": "python",
   "nbconvert_exporter": "python",
   "pygments_lexer": "ipython3",
   "version": "3.12.8"
  }
 },
 "nbformat": 4,
 "nbformat_minor": 2
}
