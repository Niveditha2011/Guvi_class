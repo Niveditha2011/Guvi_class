{
 "cells": [
  {
   "cell_type": "code",
   "execution_count": null,
   "metadata": {},
   "outputs": [],
   "source": [
    "# CLASS & OBJECTS & METHODS\n",
    "\n",
    "\"\"\"     CLASS: Inside a class there will be many function\n",
    "those function inside class is called methods \"\"\""
   ]
  },
  {
   "cell_type": "code",
   "execution_count": null,
   "metadata": {},
   "outputs": [],
   "source": [
    "class Guvi():\n",
    "    a=5\n",
    "    b=7"
   ]
  },
  {
   "cell_type": "code",
   "execution_count": null,
   "metadata": {},
   "outputs": [
    {
     "name": "stdout",
     "output_type": "stream",
     "text": [
      "5\n"
     ]
    }
   ],
   "source": [
    "z=Guvi() #object\n",
    "print(z.a)"
   ]
  },
  {
   "cell_type": "code",
   "execution_count": 21,
   "metadata": {},
   "outputs": [],
   "source": [
    "class Bank():\n",
    "    def __init__(self,name,balance):  #init-initialisation\n",
    "        self.name=name  # first arugument will be self argument\n",
    "        self.balance=balance\n",
    "\n",
    "    def deposit(self,amount):\n",
    "        self.balance += amount\n",
    "        print(f\"your new balance is {self.balance}\")\n",
    "\n",
    "    def withdraw(self,amount):\n",
    "        if self.balance>-amount:\n",
    "            self.balance-=amount\n",
    "            print(f\"your new balance is {self.balance}\")\n",
    "        else:\n",
    "            print(\"Insufficient balance\")\n",
    "    \n",
    "    def check_balance(self):\n",
    "        print(f\"your current balance is {self.balance}\")\n",
    "\n",
    "# self - used for internal data transfer , for using data outside the method \n",
    "#every objest maintain separate memory so data can easily updated or changed in that memory without disturbing other"
   ]
  },
  {
   "cell_type": "code",
   "execution_count": 23,
   "metadata": {},
   "outputs": [
    {
     "name": "stdout",
     "output_type": "stream",
     "text": [
      "Nivi\n",
      "10000\n",
      "your new balance is 13000\n",
      "your new balance is 11500\n",
      "your current balance is 11500\n"
     ]
    }
   ],
   "source": [
    "nivi = Bank(\"Nivi\",10000)  # calling the class by a object\n",
    "print(nivi.name)\n",
    "print(nivi.balance)\n",
    "nivi.deposit(3000)\n",
    "nivi.withdraw(1500)\n",
    "nivi.check_balance()"
   ]
  },
  {
   "cell_type": "code",
   "execution_count": 13,
   "metadata": {},
   "outputs": [
    {
     "name": "stdout",
     "output_type": "stream",
     "text": [
      "Madhu\n",
      "10000\n",
      "your new balance is 15000\n"
     ]
    }
   ],
   "source": [
    "madhu = Bank(\"Madhu\",10000)\n",
    "print(madhu.name)\n",
    "print(madhu.balance)\n",
    "madhu.deposit(5000)"
   ]
  },
  {
   "cell_type": "code",
   "execution_count": 44,
   "metadata": {},
   "outputs": [],
   "source": [
    "class post():\n",
    "    def __init__(self,user,time,content):\n",
    "        self.name = user\n",
    "        self.neram = time \n",
    "        self.data = content\n",
    "        self.like = 0\n",
    "        self.comment = []\n",
    "    \n",
    "    def like_post(self):\n",
    "        self.like = self.like + 1\n",
    "        return self.like\n",
    "    \n",
    "    def comment_post(self,user,description):\n",
    "        self.comment.append((user,description))\n",
    "        return \"comment successfully posted\""
   ]
  },
  {
   "cell_type": "code",
   "execution_count": 45,
   "metadata": {},
   "outputs": [],
   "source": [
    "import datetime\n",
    "post1 = post(\"nivi\",datetime.datetime.now(),\"Hi Batch\")"
   ]
  },
  {
   "cell_type": "code",
   "execution_count": 49,
   "metadata": {},
   "outputs": [
    {
     "name": "stdout",
     "output_type": "stream",
     "text": [
      "2025-02-17 11:00:25.256679\n",
      "Hi Batch\n",
      "4\n",
      "[('nivi', 'good morning'), ('nivi', 'good content'), ('mad', 'welcome'), ('nivi', 'good morning'), ('nivi', 'good content'), ('mad', 'welcome'), ('nivi', 'good morning'), ('nivi', 'good content'), ('mad', 'welcome'), ('nivi', 'good morning'), ('nivi', 'good content'), ('mad', 'welcome')]\n"
     ]
    }
   ],
   "source": [
    "print(post1.neram)\n",
    "print(post1.data)\n",
    "post1.like_post()\n",
    "print(post1.like)\n",
    "post1.comment_post(\"nivi\",\"good morning\")\n",
    "post1.comment_post(\"nivi\",\"good content\")\n",
    "post1.comment_post(\"mad\",\"welcome\")\n",
    "print(post1.comment)"
   ]
  },
  {
   "cell_type": "code",
   "execution_count": 3,
   "metadata": {},
   "outputs": [],
   "source": [
    "class Movie():\n",
    "    def __init__(self,name,time,count):\n",
    "        self.moviename = name\n",
    "        self.neram=time\n",
    "        self.ticketcount = count\n",
    "        self.seatno = 0\n",
    "    \n",
    "    def seat_allocation(self):\n",
    "        self.seatno = self.seatno + 1\n",
    "        if (self.seatno <=self.ticketcount ):\n",
    "             print(f\"your seatno is A{self.seatno}\")\n",
    "        else:\n",
    "            print(\"Housefull\") "
   ]
  },
  {
   "cell_type": "code",
   "execution_count": 4,
   "metadata": {},
   "outputs": [],
   "source": [
    "import datetime\n",
    "cinema = Movie(\"KGF\",datetime.datetime.now(),10)"
   ]
  },
  {
   "cell_type": "code",
   "execution_count": 5,
   "metadata": {},
   "outputs": [
    {
     "name": "stdout",
     "output_type": "stream",
     "text": [
      "your seatno is A1\n",
      "KGF 2025-02-18 09:15:15.820617 1\n"
     ]
    }
   ],
   "source": [
    "cinema.seat_allocation()\n",
    "print(cinema.moviename,cinema.neram,cinema.seatno)"
   ]
  },
  {
   "cell_type": "code",
   "execution_count": 6,
   "metadata": {},
   "outputs": [],
   "source": [
    "# INHERITANCE\n",
    "# CHILD CLASS USING FEATURE FROM PARENT CLASS\n",
    "\n",
    "class father():\n",
    "    def nose(self):\n",
    "        print(\"Pointed nose\")\n",
    "class son(father):\n",
    "    def hair(self):\n",
    "        print(\"curly hair\")"
   ]
  },
  {
   "cell_type": "code",
   "execution_count": 7,
   "metadata": {},
   "outputs": [
    {
     "name": "stdout",
     "output_type": "stream",
     "text": [
      "Pointed nose\n",
      "None\n",
      "curly hair\n",
      "None\n"
     ]
    }
   ],
   "source": [
    "a=son()\n",
    "print(a.nose())\n",
    "print(a.hair())"
   ]
  },
  {
   "cell_type": "code",
   "execution_count": 8,
   "metadata": {},
   "outputs": [],
   "source": [
    "#multiple inheritance\n",
    "class father():\n",
    "    def nose(self):\n",
    "        print(\"Pointed nose\")\n",
    "class mother():\n",
    "    def eye(self):\n",
    "        print(\"blue eye\")\n",
    "class son(father,mother):\n",
    "    def hair(self):\n",
    "        print(\"curly hair\")"
   ]
  },
  {
   "cell_type": "code",
   "execution_count": 9,
   "metadata": {},
   "outputs": [
    {
     "name": "stdout",
     "output_type": "stream",
     "text": [
      "Pointed nose\n",
      "None\n",
      "blue eye\n",
      "None\n",
      "curly hair\n",
      "None\n"
     ]
    }
   ],
   "source": [
    "b=son()\n",
    "print(b.nose())\n",
    "print(b.eye())\n",
    "print(b.hair())"
   ]
  },
  {
   "cell_type": "code",
   "execution_count": 12,
   "metadata": {},
   "outputs": [],
   "source": [
    "#multilevel inheritance\n",
    "class grandfather():\n",
    "    def eye(self):\n",
    "        print(\"blue eye\")\n",
    "class father(grandfather):\n",
    "    def nose(self):\n",
    "        print(\"Pointed nose\")\n",
    "class son(father):\n",
    "    def hair(self):\n",
    "        print(\"curly hair\")"
   ]
  },
  {
   "cell_type": "code",
   "execution_count": 13,
   "metadata": {},
   "outputs": [
    {
     "name": "stdout",
     "output_type": "stream",
     "text": [
      "blue eye\n",
      "None\n"
     ]
    }
   ],
   "source": [
    "a=son()\n",
    "print(a.eye())"
   ]
  },
  {
   "cell_type": "code",
   "execution_count": null,
   "metadata": {},
   "outputs": [],
   "source": [
    "# encapsulation - hiding their information\n",
    "#abstraction - "
   ]
  },
  {
   "cell_type": "code",
   "execution_count": 14,
   "metadata": {},
   "outputs": [
    {
     "name": "stdout",
     "output_type": "stream",
     "text": [
      "100\n",
      "1000000\n",
      "-500\n"
     ]
    }
   ],
   "source": [
    "#without encapsulation\n",
    "class BankAccount:\n",
    "  def __init__(self, account_number, balance):\n",
    "      self.account_number = account_number\n",
    "      self.balance = balance  # Public attribute\n",
    "\n",
    "  def deposit(self, amount):\n",
    "      self.balance += amount\n",
    "      return self.balance\n",
    "\n",
    "  def withdraw(self, amount):\n",
    "      if amount > self.balance:\n",
    "          print(\"Insufficient funds!\")\n",
    "          return\n",
    "      self.balance -= amount\n",
    "      return self.balance\n",
    "\n",
    "  def get_balance(self):\n",
    "      return self.balance\n",
    "account = BankAccount(\"123456789\", 100)\n",
    "print(account.get_balance())  # 100\n",
    "\n",
    "# With the balance being public, we can change it directly, potentially causing data inconsistency or misuse:\n",
    "account.balance = 1000000\n",
    "print(account.get_balance())  # 1000000\n",
    "\n",
    "# Or even set it to nonsensical values:\n",
    "account.balance = -500\n",
    "print(account.get_balance())  # -500\n",
    "\n"
   ]
  },
  {
   "cell_type": "code",
   "execution_count": 16,
   "metadata": {},
   "outputs": [
    {
     "name": "stdout",
     "output_type": "stream",
     "text": [
      "100\n",
      "100\n",
      "100\n"
     ]
    }
   ],
   "source": [
    "#with encapsulation\n",
    "class BankAccount:\n",
    "  def __init__(self, account_number, balance):\n",
    "      self.account_number = account_number\n",
    "      self.__balance = balance  # Private attribute\n",
    "\n",
    "  def deposit(self, amount):\n",
    "      self.__balance += amount\n",
    "      return self.__balance\n",
    "\n",
    "  def withdraw(self, amount):\n",
    "      if amount > self.__balance:\n",
    "          print(\"Insufficient funds!\")\n",
    "          return\n",
    "      self.__balance -= amount\n",
    "      return self.__balance\n",
    "  \n",
    "  def get_balance(self):\n",
    "      return self.__balance\n",
    "\n",
    "account = BankAccount(\"123456789\", 100)\n",
    "print(account.get_balance())  # 100\n",
    "\n",
    "# With the balance being public, we can change it directly, potentially causing data inconsistency or misuse:\n",
    "account.balance = 1000000\n",
    "print(account.get_balance())  # 1000000\n",
    "\n",
    "# Or even set it to nonsensical values:\n",
    "account.balance = -500\n",
    "print(account.get_balance())  # -500\n"
   ]
  },
  {
   "cell_type": "code",
   "execution_count": 17,
   "metadata": {},
   "outputs": [],
   "source": [
    "# POLYMORPHISM\n",
    "class grandfather():\n",
    "    def eye(self):\n",
    "        print(\"blue eye\")\n",
    "class father(grandfather):\n",
    "    def nose(self):\n",
    "        print(\"Pointed nose\")\n",
    "class son(father):\n",
    "    def hair(self):\n",
    "        print(\"curly hair\")\n",
    "    def eye(self):\n",
    "        print(\"brown eyes\")"
   ]
  },
  {
   "cell_type": "code",
   "execution_count": 18,
   "metadata": {},
   "outputs": [
    {
     "name": "stdout",
     "output_type": "stream",
     "text": [
      "brown eyes\n"
     ]
    }
   ],
   "source": [
    "a=son()\n",
    "a.eye()"
   ]
  },
  {
   "cell_type": "code",
   "execution_count": 21,
   "metadata": {},
   "outputs": [
    {
     "name": "stdout",
     "output_type": "stream",
     "text": [
      "^C\n"
     ]
    },
    {
     "name": "stderr",
     "output_type": "stream",
     "text": [
      "ERROR: Invalid requirement: '#uninstall': Expected package name at the start of dependency specifier\n",
      "    #uninstall\n",
      "    ^\n"
     ]
    },
    {
     "name": "stderr",
     "output_type": "stream",
     "text": [
      "\n",
      "[notice] A new release of pip is available: 24.3.1 -> 25.0.1\n",
      "[notice] To update, run: python.exe -m pip install --upgrade pip\n",
      "ERROR: Invalid requirement: '#install': Expected package name at the start of dependency specifier\n",
      "    #install\n",
      "    ^\n"
     ]
    }
   ],
   "source": [
    "# PIP \n",
    "#python indexing packaging#\n",
    "! pip install pandas  #install \n",
    "! pip uninstall pandas  #uninstall\n"
   ]
  },
  {
   "cell_type": "code",
   "execution_count": 25,
   "metadata": {},
   "outputs": [
    {
     "name": "stdout",
     "output_type": "stream",
     "text": [
      "Requirement already satisfied: pandas in c:\\users\\nithu\\appdata\\local\\programs\\python\\python312\\lib\\site-packages (2.2.3)\n",
      "Requirement already satisfied: numpy>=1.26.0 in c:\\users\\nithu\\appdata\\local\\programs\\python\\python312\\lib\\site-packages (from pandas) (2.2.2)\n",
      "Requirement already satisfied: python-dateutil>=2.8.2 in c:\\users\\nithu\\appdata\\roaming\\python\\python312\\site-packages (from pandas) (2.9.0.post0)\n",
      "Requirement already satisfied: pytz>=2020.1 in c:\\users\\nithu\\appdata\\local\\programs\\python\\python312\\lib\\site-packages (from pandas) (2025.1)\n",
      "Requirement already satisfied: tzdata>=2022.7 in c:\\users\\nithu\\appdata\\local\\programs\\python\\python312\\lib\\site-packages (from pandas) (2025.1)\n",
      "Requirement already satisfied: six>=1.5 in c:\\users\\nithu\\appdata\\roaming\\python\\python312\\site-packages (from python-dateutil>=2.8.2->pandas) (1.17.0)\n"
     ]
    },
    {
     "name": "stderr",
     "output_type": "stream",
     "text": [
      "\n",
      "[notice] A new release of pip is available: 24.3.1 -> 25.0.1\n",
      "[notice] To update, run: python.exe -m pip install --upgrade pip\n"
     ]
    }
   ],
   "source": [
    "! pip install pandas "
   ]
  },
  {
   "cell_type": "code",
   "execution_count": 24,
   "metadata": {},
   "outputs": [],
   "source": [
    "! pip freeze > requirements.txt"
   ]
  },
  {
   "cell_type": "code",
   "execution_count": null,
   "metadata": {},
   "outputs": [],
   "source": [
    "# PICKLE - \n",
    "# to protect data without coruption and to store data \n",
    "# ,they convert data into pickle and store"
   ]
  },
  {
   "cell_type": "code",
   "execution_count": null,
   "metadata": {},
   "outputs": [],
   "source": [
    "#ALGORITHM THINKING\n",
    "\"\"\"\n",
    "step 1: Get an appoinment from scan center by giving necessary information , \n",
    "        \n",
    "step 2: check availablitity of slots ,if available give date time details and confirmation \n",
    "        to patient , if not available - give alternative date\n",
    "\n",
    "step 3 : Patient arrived for scan , Verify patient and collect payment and assign assistent to them\n",
    "\n",
    "step 4 : Conduct scan for patient following procedures and give time for report\n",
    "\n",
    "step 5 : when report is ready remind the patient to collect it and confirm after report colected\n",
    "\"\"\""
   ]
  },
  {
   "cell_type": "code",
   "execution_count": null,
   "metadata": {},
   "outputs": [],
   "source": [
    "# 19/02"
   ]
  },
  {
   "cell_type": "code",
   "execution_count": null,
   "metadata": {},
   "outputs": [],
   "source": [
    "#API"
   ]
  },
  {
   "cell_type": "code",
   "execution_count": null,
   "metadata": {},
   "outputs": [
    {
     "name": "stdout",
     "output_type": "stream",
     "text": [
      "Did you hear about the cheese factory that exploded in France? - There was nothing left but de Brie.\n"
     ]
    }
   ],
   "source": [
    "import requests\n",
    "\n",
    "def get_joke():\n",
    "    url = \"https://official-joke-api.appspot.com/random_joke\"\n",
    "    response = requests.get(url)\n",
    "    if response.status_code == 200:\n",
    "        joke = response.json()\n",
    "        return f\"{joke['setup']} - {joke['punchline']}\"\n",
    "    return \"Failed to fetch joke\"\n",
    "\n",
    "print(get_joke())"
   ]
  },
  {
   "cell_type": "code",
   "execution_count": null,
   "metadata": {},
   "outputs": [
    {
     "name": "stdout",
     "output_type": "stream",
     "text": [
      "Jai Ho, Jai Ho, Jai Ho, Jai Ho\n",
      "(Aaja Aaja Jind Shamiyane Ke Tale\n",
      "Aaja Jariwale Nile Aasman Ke Tale\n",
      "Jai Ho, Jai Ho) - 2\n",
      "Jai Ho.., Jai Ho.., Jai Ho.., Jai Ho..\n",
      "\n",
      "\n",
      "Ratti Ratti Sachi Maine Jaan Gavayi Hai\n",
      "\n",
      "Nach Nach Koylo Pe Raat Bitayi Hai\n",
      "\n",
      "Akhiyon Ki Neend Maine Phoonko Se Uda Di\n",
      "\n",
      "Neele Tare Se Maine Ungli Jalayi Hai\n",
      "\n",
      "Aaja Aaja Jind Shamiyane Ke Tale\n",
      "\n",
      "Aaja Jariwale Nile Aasman Ke Tale\n",
      "\n",
      "Jai Ho, Jai Ho, Jai Ho, Jai Ho\n",
      "\n",
      "\n",
      "\n",
      "Jai Ho.., Jai Ho.., Jai Ho.., Jai Ho..\n",
      "\n",
      "Chakh Le, Ha Chakh Le, Ye Raat Shahad Hai.. Chakh Le\n",
      "\n",
      "Rakh Le, Ha Dil Hai, Dil Aakhri Had Hai.. Rakh Le\n",
      "\n",
      "Kala Kala Kajal Tera Koi Kala Jadoo Hai Na\n",
      "\n",
      "Kala Kala Kajal Tera Koi Kala Jadoo Hai Na\n",
      "\n",
      "Aaja Aaja Jind Shamiyane Ke Tale\n",
      "\n",
      "Aaja Jariwale Nile Aasman Ke Tale, Jai Ho, Jai Ho\n",
      "\n",
      "Jai Ho.., Jai Ho.., Jai Ho.., Jai Ho..\n",
      "\n",
      "\n",
      "\n",
      "Kab Se, Ha Kab Se Tu Lab Pe Ruki Hai.. Kah De\n",
      "\n",
      "Kah De, Ha Kah De Ab Aankh Jhuki Hai.. Kah De\n",
      "\n",
      "Aisi Aisi Roshan Aankhe Roshan Dono Bhi Hai Hai Kya\n",
      "\n",
      "Aaja Aaja Jind Shamiyane Ke Tale\n",
      "\n",
      "Aaja Jariwale Nile Aasman Ke Tale\n",
      "\n",
      "Jai Ho, Jai Ho, Jai Ho, Jai Ho\n",
      "\n",
      "Jai Ho, Jai Ho, Jai Ho, Jai Ho\n"
     ]
    }
   ],
   "source": [
    "import requests\n",
    "\n",
    "def get_lyrics(artist, song):\n",
    "   url = f\"https://api.lyrics.ovh/v1/{artist}/{song}\"\n",
    "   response = requests.get(url)\n",
    "   if response.status_code == 200: #200 sucessful\n",
    "       data = response.json()\n",
    "       return data.get(\"lyrics\", \"Lyrics not found\")\n",
    "   return \"Song not found!\"\n",
    "\n",
    "print(get_lyrics(\"A R Rahman\", \"jai ho\"))"
   ]
  },
  {
   "cell_type": "code",
   "execution_count": 4,
   "metadata": {},
   "outputs": [
    {
     "name": "stdout",
     "output_type": "stream",
     "text": [
      "Collecting flask"
     ]
    },
    {
     "name": "stderr",
     "output_type": "stream",
     "text": [
      "\n",
      "[notice] A new release of pip is available: 24.3.1 -> 25.0.1\n",
      "[notice] To update, run: python.exe -m pip install --upgrade pip\n"
     ]
    },
    {
     "name": "stdout",
     "output_type": "stream",
     "text": [
      "\n",
      "  Downloading flask-3.1.0-py3-none-any.whl.metadata (2.7 kB)\n",
      "Collecting Werkzeug>=3.1 (from flask)\n",
      "  Downloading werkzeug-3.1.3-py3-none-any.whl.metadata (3.7 kB)\n",
      "Requirement already satisfied: Jinja2>=3.1.2 in c:\\users\\nithu\\appdata\\local\\programs\\python\\python312\\lib\\site-packages (from flask) (3.1.5)\n",
      "Collecting itsdangerous>=2.2 (from flask)\n",
      "  Downloading itsdangerous-2.2.0-py3-none-any.whl.metadata (1.9 kB)\n",
      "Requirement already satisfied: click>=8.1.3 in c:\\users\\nithu\\appdata\\local\\programs\\python\\python312\\lib\\site-packages (from flask) (8.1.8)\n",
      "Collecting blinker>=1.9 (from flask)\n",
      "  Downloading blinker-1.9.0-py3-none-any.whl.metadata (1.6 kB)\n",
      "Requirement already satisfied: colorama in c:\\users\\nithu\\appdata\\roaming\\python\\python312\\site-packages (from click>=8.1.3->flask) (0.4.6)\n",
      "Requirement already satisfied: MarkupSafe>=2.0 in c:\\users\\nithu\\appdata\\local\\programs\\python\\python312\\lib\\site-packages (from Jinja2>=3.1.2->flask) (2.1.5)\n",
      "Downloading flask-3.1.0-py3-none-any.whl (102 kB)\n",
      "Downloading blinker-1.9.0-py3-none-any.whl (8.5 kB)\n",
      "Downloading itsdangerous-2.2.0-py3-none-any.whl (16 kB)\n",
      "Downloading werkzeug-3.1.3-py3-none-any.whl (224 kB)\n",
      "Installing collected packages: Werkzeug, itsdangerous, blinker, flask\n",
      "Successfully installed Werkzeug-3.1.3 blinker-1.9.0 flask-3.1.0 itsdangerous-2.2.0\n",
      "Collecting pyngrok\n",
      "  Downloading pyngrok-7.2.3-py3-none-any.whl.metadata (8.7 kB)\n",
      "Requirement already satisfied: PyYAML>=5.1 in c:\\users\\nithu\\appdata\\local\\programs\\python\\python312\\lib\\site-packages (from pyngrok) (6.0.2)\n",
      "Downloading pyngrok-7.2.3-py3-none-any.whl (23 kB)\n",
      "Installing collected packages: pyngrok\n",
      "Successfully installed pyngrok-7.2.3\n"
     ]
    },
    {
     "name": "stderr",
     "output_type": "stream",
     "text": [
      "\n",
      "[notice] A new release of pip is available: 24.3.1 -> 25.0.1\n",
      "[notice] To update, run: python.exe -m pip install --upgrade pip\n"
     ]
    }
   ],
   "source": [
    "!pip install flask\n",
    "!pip install pyngrok\n"
   ]
  },
  {
   "cell_type": "code",
   "execution_count": 5,
   "metadata": {},
   "outputs": [
    {
     "name": "stdout",
     "output_type": "stream",
     "text": [
      "Downloading ngrok ...\n",
      "Downloading ngrok: 0%\n",
      "Downloading ngrok: 1%\n",
      "Downloading ngrok: 2%\n",
      "Downloading ngrok: 3%\n",
      "Downloading ngrok: 4%\n",
      "Downloading ngrok: 5%\n",
      "Downloading ngrok: 6%\n",
      "Downloading ngrok: 7%\n",
      "Downloading ngrok: 8%\n",
      "Downloading ngrok: 9%\n",
      "Downloading ngrok: 10%\n",
      "Downloading ngrok: 11%\n",
      "Downloading ngrok: 12%\n",
      "Downloading ngrok: 13%\n",
      "Downloading ngrok: 14%\n",
      "Downloading ngrok: 15%\n",
      "Downloading ngrok: 16%\n",
      "Downloading ngrok: 17%\n",
      "Downloading ngrok: 18%\n",
      "Downloading ngrok: 19%\n",
      "Downloading ngrok: 20%\n",
      "Downloading ngrok: 21%\n",
      "Downloading ngrok: 22%\n",
      "Downloading ngrok: 23%\n",
      "Downloading ngrok: 24%\n",
      "Downloading ngrok: 25%\n",
      "Downloading ngrok: 26%\n",
      "Downloading ngrok: 27%\n",
      "Downloading ngrok: 28%\n",
      "Downloading ngrok: 29%\n",
      "Downloading ngrok: 30%\n",
      "Downloading ngrok: 31%\n",
      "Downloading ngrok: 32%\n",
      "Downloading ngrok: 33%\n",
      "Downloading ngrok: 34%\n",
      "Downloading ngrok: 35%\n",
      "Downloading ngrok: 36%\n",
      "Downloading ngrok: 37%\n",
      "Downloading ngrok: 38%\n",
      "Downloading ngrok: 39%\n",
      "Downloading ngrok: 40%\n",
      "Downloading ngrok: 41%\n",
      "Downloading ngrok: 42%\n",
      "Downloading ngrok: 43%\n",
      "Downloading ngrok: 44%\n",
      "Downloading ngrok: 45%\n",
      "Downloading ngrok: 46%\n",
      "Downloading ngrok: 47%\n",
      "Downloading ngrok: 48%\n",
      "Downloading ngrok: 49%\n",
      "Downloading ngrok: 50%\n",
      "Downloading ngrok: 51%\n",
      "Downloading ngrok: 52%\n",
      "Downloading ngrok: 53%\n",
      "Downloading ngrok: 54%\n",
      "Downloading ngrok: 55%\n",
      "Downloading ngrok: 56%\n",
      "Downloading ngrok: 57%\n",
      "Downloading ngrok: 58%\n",
      "Downloading ngrok: 59%\n",
      "Downloading ngrok: 60%\n",
      "Downloading ngrok: 61%\n",
      "Downloading ngrok: 62%\n",
      "Downloading ngrok: 63%\n",
      "Downloading ngrok: 64%\n",
      "Downloading ngrok: 65%\n",
      "Downloading ngrok: 66%\n",
      "Downloading ngrok: 67%\n",
      "Downloading ngrok: 68%\n",
      "Downloading ngrok: 69%\n",
      "Downloading ngrok: 70%\n",
      "Downloading ngrok: 71%\n",
      "Downloading ngrok: 72%\n",
      "Downloading ngrok: 73%\n",
      "Downloading ngrok: 74%\n",
      "Downloading ngrok: 75%\n",
      "Downloading ngrok: 76%\n",
      "Downloading ngrok: 77%\n",
      "Downloading ngrok: 78%\n",
      "Downloading ngrok: 79%\n",
      "Downloading ngrok: 80%\n",
      "Downloading ngrok: 81%\n",
      "Downloading ngrok: 82%\n",
      "Downloading ngrok: 83%\n",
      "Downloading ngrok: 84%\n",
      "Downloading ngrok: 85%\n",
      "Downloading ngrok: 86%\n",
      "Downloading ngrok: 87%\n",
      "Downloading ngrok: 88%\n",
      "Downloading ngrok: 89%\n",
      "Downloading ngrok: 90%\n",
      "Downloading ngrok: 91%\n",
      "Downloading ngrok: 92%\n",
      "Downloading ngrok: 93%\n",
      "Downloading ngrok: 94%\n",
      "Downloading ngrok: 95%\n",
      "Downloading ngrok: 96%\n",
      "Downloading ngrok: 97%\n",
      "Downloading ngrok: 98%\n",
      "Downloading ngrok: 99%\n",
      "Downloading ngrok: 100%\n",
      "                                                                                                    \n",
      "Installing ngrok ... \n",
      "                                                                                                    \n",
      "Authtoken saved to configuration file: C:\\Users\\nithu\\AppData\\Local/ngrok/ngrok.yml\n"
     ]
    }
   ],
   "source": [
    "!ngrok authtoken 2scbNnbpo6Sg4ACRI2tbsxGAiYHv"
   ]
  },
  {
   "cell_type": "code",
   "execution_count": null,
   "metadata": {},
   "outputs": [],
   "source": [
    "from flask import Flask, jsonify\n",
    "from pyngrok import ngrok\n",
    "\n",
    "\n",
    "app = Flask(__name__)\n",
    "public_url = ngrok.connect(5000).public_url\n",
    "print(f\"🚀 ngrok URL: {public_url}\")\n",
    "\n",
    "\n",
    "users = [\n",
    "   {\"id\": 1, \"name\": \"Alice\", \"age\": 25},\n",
    "   {\"id\": 2, \"name\": \"Bob\", \"age\": 30}\n",
    "]\n",
    "\n",
    "\n",
    "@app.route('/users', methods=['GET'])\n",
    "def get_users():\n",
    "   return jsonify(users)\n",
    "\n",
    "\n",
    "app.run(port=5000)"
   ]
  }
 ],
 "metadata": {
  "kernelspec": {
   "display_name": "Python 3",
   "language": "python",
   "name": "python3"
  },
  "language_info": {
   "codemirror_mode": {
    "name": "ipython",
    "version": 3
   },
   "file_extension": ".py",
   "mimetype": "text/x-python",
   "name": "python",
   "nbconvert_exporter": "python",
   "pygments_lexer": "ipython3",
   "version": "3.12.8"
  }
 },
 "nbformat": 4,
 "nbformat_minor": 2
}
