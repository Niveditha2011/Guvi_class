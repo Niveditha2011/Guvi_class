{
 "cells": [
  {
   "cell_type": "code",
   "execution_count": 10,
   "metadata": {},
   "outputs": [],
   "source": [
    "import mysql.connector\n",
    "\n",
    "connection = mysql.connector.connect(\n",
    "  host = \"gateway01.ap-southeast-1.prod.aws.tidbcloud.com\",\n",
    "  port = 4000,\n",
    "  user = \"2XWsHPpwQA4Z6ce.root\",\n",
    "  password = \"lFu7DqRUZThvq3kn\",\n",
    "  database = \"Guvi\",\n",
    " \n",
    ")\n",
    "mycursor=connection.cursor()"
   ]
  },
  {
   "cell_type": "code",
   "execution_count": 3,
   "metadata": {},
   "outputs": [],
   "source": [
    "mycursor=connection.cursor()"
   ]
  },
  {
   "cell_type": "code",
   "execution_count": null,
   "metadata": {},
   "outputs": [],
   "source": [
    "mycursor.execute(\"SELECT * FROM GUVI.DIABETIC\")\n",
    "for i in mycursor:\n",
    "    print(i)"
   ]
  },
  {
   "cell_type": "code",
   "execution_count": null,
   "metadata": {},
   "outputs": [],
   "source": [
    "!pip install tabulate"
   ]
  },
  {
   "cell_type": "code",
   "execution_count": null,
   "metadata": {},
   "outputs": [],
   "source": [
    "#mycursor.execute(\"SELECT * FROM GUVI.DIABETIC\")   #all table\n",
    "#mycursor.execute(\"SELECT BMI,AGE FROM GUVI.DIABETIC\")\n",
    "#mycursor.execute(\"SELECT PREGNANCIES AS P , BLOODPRESSURE AS B FROM GUVI.DIABETIC LIMIT 20\")\n",
    "#mycursor.execute(\"SELECT PREGNANCIES, AGE, INSULIN FROM GUVI.DIABETIC WHERE AGE<35\")\n",
    "#mycursor.execute(\"SELECT BLOODPRESSURE, AGE, INSULIN FROM GUVI.DIABETIC WHERE AGE=35\")\n",
    "#mycursor.execute(\"SELECT BLOODPRESSURE, AGE, INSULIN FROM GUVI.DIABETIC WHERE AGE!=35\")\n",
    "#mycursor.execute(\"SELECT BLOODPRESSURE, AGE, INSULIN FROM GUVI.DIABETIC WHERE AGE<>35\")    #<>NOT EQUAL TO\n",
    "#mycursor.execute(\"SELECT BLOODPRESSURE, AGE, INSULIN FROM GUVI.DIABETIC WHERE AGE IN (21,22,23.24)\")    #<>NOT EQUAL TO\n",
    "#mycursor.execute(\"SELECT BLOODPRESSURE, AGE, INSULIN FROM GUVI.DIABETIC WHERE AGE<35 AND OUTCOME =1\")    #<>NOT EQUAL TO\n",
    "#mycursor.execute(\"SELECT BLOODPRESSURE, AGE, INSULIN FROM GUVI.DIABETIC WHERE AGE<35 AND (BLOODPRESSURE = 0 OR INSULIN =0)\")    #<>NOT EQUAL TO\n",
    "mycursor.execute(\"SELECT BLOODPRESSURE, AGE, INSULIN FROM GUVI.DIABETIC WHERE AGE NOT IN (60,40,30,10)\")\n",
    "\n",
    "out=mycursor.fetchall()\n",
    "from tabulate import tabulate\n",
    "print(tabulate(out,headers=[i[0] for i in mycursor.description],  tablefmt='psql'))"
   ]
  },
  {
   "cell_type": "code",
   "execution_count": 12,
   "metadata": {},
   "outputs": [
    {
     "data": {
      "text/plain": [
       "[('BMI', 5, None, None, None, None, 1, 32768, 63),\n",
       " ('AGE', 8, None, None, None, None, 1, 32768, 63)]"
      ]
     },
     "execution_count": 12,
     "metadata": {},
     "output_type": "execute_result"
    }
   ],
   "source": [
    "mycursor.description"
   ]
  },
  {
   "cell_type": "code",
   "execution_count": null,
   "metadata": {},
   "outputs": [
    {
     "name": "stdout",
     "output_type": "stream",
     "text": [
      "+------------+\n",
      "|   COUNT(*) |\n",
      "|------------|\n",
      "|         49 |\n",
      "+------------+\n"
     ]
    }
   ],
   "source": [
    "#AGGREGATE OR CUMMULATIVE QUERY\n",
    "\n",
    "#mycursor.execute(\"SELECT COUNT(*) FROM GUVI.DIABETIC \")\n",
    "#mycursor.execute(\"SELECT SUM(OUTCOME) FROM GUVI.DIABETIC\")\n",
    "#mycursor.execute(\"SELECT AVG(AGE) FROM GUVI.DIABETIC WHERE OUTCOME = 1\")\n",
    "#mycursor.execute(\"SELECT AVG(AGE) FROM GUVI.DIABETIC WHERE OUTCOME = 0\")\n",
    "#mycursor.execute(\"SELECT MIN(INSULIN),MAX(INSULIN) FROM GUVI.DIABETIC WHERE OUTCOME = 1\")\n",
    "#subquery\n",
    "mycursor.execute(\"SELECT COUNT(*) FROM GUVI.DIABETIC WHERE PREGNANCIES<3 AND OUTCOME=1 AND BLOODPRESSURE > (SELECT AVG(BLOODPRESSURE) FROM GUVI.DIABETIC)\")\n",
    "out=mycursor.fetchall()\n",
    "from tabulate import tabulate\n",
    "print(tabulate(out,headers=[i[0] for i in mycursor.description],  tablefmt='psql'))"
   ]
  },
  {
   "cell_type": "code",
   "execution_count": null,
   "metadata": {},
   "outputs": [],
   "source": [
    "#GROUP BY , ORDER BY\n",
    "#mycursor.execute(\"SELECT PREGNANCIES,COUNT(*) FROM GUVI.DIABETIC GROUP BY PREGNANCIES ORDER BY PREGNANCIES\")\n",
    "#mycursor.execute(\"SELECT PREGNANCIES,OUTCOME,COUNT(*) FROM GUVI.DIABETIC GROUP BY PREGNANCIES,OUTCOME ORDER BY PREGNANCIES\" )\n",
    "mycursor.execute(\"SELECT PREGNANCIES,OUTCOME,COUNT(*) FROM GUVI.DIABETIC GROUP BY PREGNANCIES,OUTCOME ORDER BY PREGNANCIES,OUTCOME\" )\n",
    "\n",
    "\n",
    "out=mycursor.fetchall()\n",
    "from tabulate import tabulate\n",
    "print(tabulate(out,headers=[i[0] for i in mycursor.description],  tablefmt='psql'))"
   ]
  },
  {
   "cell_type": "code",
   "execution_count": null,
   "metadata": {},
   "outputs": [],
   "source": [
    "# CASE CONDITION AND MULTIPLE LINE \"\"\"\n",
    "mycursor.execute(\"\"\"SELECT BMI,OUTCOME,CASE \n",
    "WHEN (BMI<18) THEN 'UNDERWEIGHT'\n",
    "WHEN (BMI BETWEEN 18 AND 25) THEN 'NORMAL'\n",
    "WHEN (BMI BETWEEN 26 AND 30) THEN 'OVERWEIGHT'\n",
    "ELSE 'OBESE' END AS BMIMETRICS FROM GUVI.DIABETIC\"\"\") \n",
    "                 \n",
    "out=mycursor.fetchall()\n",
    "from tabulate import tabulate\n",
    "print(tabulate(out,headers=[i[0] for i in mycursor.description],  tablefmt='psql'))"
   ]
  },
  {
   "cell_type": "code",
   "execution_count": null,
   "metadata": {},
   "outputs": [],
   "source": [
    "mycursor.execute(\"\"\"SELECT CASE \n",
    "WHEN (BMI<18) THEN 'UNDERWEIGHT'\n",
    "WHEN (BMI BETWEEN 18 AND 25) THEN 'NORMAL'\n",
    "WHEN (BMI BETWEEN 26 AND 30) THEN 'OVERWEIGHT'\n",
    "ELSE 'OBESE' END AS BMIMETRICS,COUNT(*) FROM GUVI.DIABETIC GROUP BY BMIMETRICS \"\"\") \n",
    "                 \n",
    "out=mycursor.fetchall()\n",
    "from tabulate import tabulate\n",
    "print(tabulate(out,headers=[i[0] for i in mycursor.description],  tablefmt='psql'))"
   ]
  },
  {
   "cell_type": "code",
   "execution_count": null,
   "metadata": {},
   "outputs": [],
   "source": [
    "mycursor.execute(\"\"\"SELECT CASE \n",
    "WHEN (BMI<18) THEN 'UNDERWEIGHT'\n",
    "WHEN (BMI BETWEEN 18 AND 25) THEN 'NORMAL'\n",
    "WHEN (BMI BETWEEN 26 AND 30) THEN 'OVERWEIGHT'\n",
    "ELSE 'OBESE' END AS BMIMETRICS,COUNT(*) FROM GUVI.DIABETIC WHERE OUTCOME=1 GROUP BY BMIMETRICS  \"\"\") \n",
    "                 \n",
    "out=mycursor.fetchall()\n",
    "from tabulate import tabulate\n",
    "print(tabulate(out,headers=[i[0] for i in mycursor.description],  tablefmt='psql'))  "
   ]
  },
  {
   "cell_type": "code",
   "execution_count": null,
   "metadata": {},
   "outputs": [],
   "source": [
    "mycursor.execute(\"\"\"SELECT CASE \n",
    "WHEN (BMI<18) THEN 'UNDERWEIGHT'\n",
    "WHEN (BMI BETWEEN 18 AND 25) THEN 'NORMAL'\n",
    "WHEN (BMI BETWEEN 26 AND 30) THEN 'OVERWEIGHT'\n",
    "ELSE 'OBESE' END AS BMIMETRICS,COUNT(*),OUTCOME FROM GUVI.DIABETIC GROUP BY BMIMETRICS,OUTCOME HAVING (OUTCOME=1)  \"\"\") \n",
    "                 \n",
    "out=mycursor.fetchall()\n",
    "from tabulate import tabulate\n",
    "print(tabulate(out,headers=[i[0] for i in mycursor.description],  tablefmt='psql'))"
   ]
  },
  {
   "cell_type": "code",
   "execution_count": null,
   "metadata": {},
   "outputs": [],
   "source": [
    "mycursor.execute(\"SELECT PREGNANCIES,AGE,AVG(AGE) OVER(PARTITION BY PREGNANCIES) FROM GUVI.DIABETIC \") \n",
    "                 \n",
    "out=mycursor.fetchall()\n",
    "from tabulate import tabulate\n",
    "print(tabulate(out,headers=[i[0] for i in mycursor.description],  tablefmt='psql'))"
   ]
  },
  {
   "cell_type": "code",
   "execution_count": null,
   "metadata": {},
   "outputs": [],
   "source": [
    "mycursor.execute(\"SELECT PREGNANCIES,AGE,DENSE_RANK() OVER(PARTITION BY PREGNANCIES ORDER BY AGE DESC) AS ABC FROM GUVI.DIABETIC \") \n",
    "                 \n",
    "out=mycursor.fetchall()\n",
    "from tabulate import tabulate\n",
    "print(tabulate(out,headers=[i[0] for i in mycursor.description],  tablefmt='psql'))"
   ]
  },
  {
   "cell_type": "code",
   "execution_count": null,
   "metadata": {},
   "outputs": [],
   "source": [
    "#constraints (6 march)\n",
    "\n",
    "\"\"\"NOT NULL - Ensures that a column cannot have a NULL value\n",
    "\n",
    "\n",
    "UNIQUE - Ensures that all values in a column are different\n",
    "\n",
    "\n",
    "PRIMARY KEY - A combination of NOT NULL and UNIQUE. Uniquely identifies each row in a table\n",
    "\n",
    "\n",
    "FOREIGN KEY - Prevents actions that would destroy links between tables\n",
    "\n",
    "\n",
    "CHECK - Ensures that the values in a column satisfies a specific condition\n",
    "\"\"\""
   ]
  },
  {
   "cell_type": "code",
   "execution_count": 2,
   "metadata": {},
   "outputs": [],
   "source": [
    "mycursor.execute(\"CREATE TABLE stu1 (no INTEGER,name TEXT NOT NULL,school VARCHAR(20)) \")"
   ]
  },
  {
   "cell_type": "code",
   "execution_count": null,
   "metadata": {},
   "outputs": [],
   "source": [
    "\n",
    "a=input(\"enter no\")\n",
    "b=input(\"enter name\")\n",
    "c=input(\"enter school\")\n",
    "query=\"INSERT INTO GUVI.stu1 (no,name,school) VALUES (%s,%s,%s)\"\n",
    "mycursor.execute(query,(a,b,c))\n",
    "connection.commit()"
   ]
  },
  {
   "cell_type": "code",
   "execution_count": null,
   "metadata": {},
   "outputs": [],
   "source": [
    "a=input(\"enter no\")\n",
    "b=input(\"enter name\")\n",
    "c=input(\"enter school\")\n",
    "query=\"INSERT INTO GUVI.stu1 (no,name,school) VALUES (%s,%s,%s)\"\n",
    "mycursor.execute(query,(a,None,c))   # not null constraint you will get erreor\n",
    "connection.commit()"
   ]
  },
  {
   "cell_type": "code",
   "execution_count": 11,
   "metadata": {},
   "outputs": [],
   "source": [
    "# unique and check constraints\n",
    "mycursor.execute(\"CREATE TABLE u (no INTEGER,name varchar(20) UNIQUE,school VARCHAR(20),age INT CHECK(age<18)) \")"
   ]
  },
  {
   "cell_type": "code",
   "execution_count": null,
   "metadata": {},
   "outputs": [],
   "source": [
    "a=input()\n",
    "b=input()\n",
    "c=input()\n",
    "d=input()\n",
    "query=\"INSERT INTO GUVI.u (no,name,school,age) VALUES (%s,%s,%s,%s)\"\n",
    "mycursor.execute(query,(a,b,c,d))\n",
    "connection.commit()"
   ]
  },
  {
   "cell_type": "code",
   "execution_count": null,
   "metadata": {},
   "outputs": [],
   "source": []
  },
  {
   "cell_type": "code",
   "execution_count": null,
   "metadata": {},
   "outputs": [],
   "source": []
  }
 ],
 "metadata": {
  "kernelspec": {
   "display_name": "Python 3",
   "language": "python",
   "name": "python3"
  },
  "language_info": {
   "codemirror_mode": {
    "name": "ipython",
    "version": 3
   },
   "file_extension": ".py",
   "mimetype": "text/x-python",
   "name": "python",
   "nbconvert_exporter": "python",
   "pygments_lexer": "ipython3",
   "version": "3.12.8"
  }
 },
 "nbformat": 4,
 "nbformat_minor": 2
}
