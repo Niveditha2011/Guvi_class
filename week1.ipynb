{
 "cells": [
  {
   "cell_type": "code",
   "execution_count": 2,
   "metadata": {},
   "outputs": [
    {
     "name": "stdout",
     "output_type": "stream",
     "text": [
      "Hello world\n"
     ]
    }
   ],
   "source": [
    "print(\"Hello world\")"
   ]
  },
  {
   "cell_type": "code",
   "execution_count": 3,
   "metadata": {},
   "outputs": [
    {
     "name": "stdout",
     "output_type": "stream",
     "text": [
      "HI\n",
      "Hello\n",
      "good\n",
      "Hi good morning\n",
      "123\n"
     ]
    }
   ],
   "source": [
    "print('HI')\n",
    "print(\"Hello\")\n",
    "print('''good''')\n",
    "a=\"Hi good morning\"\n",
    "print(a)\n",
    "b =123\n",
    "print(b)"
   ]
  },
  {
   "cell_type": "code",
   "execution_count": null,
   "metadata": {},
   "outputs": [],
   "source": []
  },
  {
   "cell_type": "code",
   "execution_count": 4,
   "metadata": {},
   "outputs": [
    {
     "name": "stdout",
     "output_type": "stream",
     "text": [
      "Nivi Lives in Chennai\n"
     ]
    }
   ],
   "source": [
    "a=input(\"enter name\")\n",
    "b=input(\"enter city\")\n",
    "print(a+\" Lives in \"+b)"
   ]
  },
  {
   "cell_type": "code",
   "execution_count": 8,
   "metadata": {},
   "outputs": [
    {
     "name": "stdout",
     "output_type": "stream",
     "text": [
      "22\n",
      "-2\n",
      "120\n",
      "0.8333333333333334\n",
      "1\n",
      "100\n",
      "3\n",
      "10.75\n"
     ]
    }
   ],
   "source": [
    "#airthmatic operators\n",
    "print (10+12)\n",
    "print (10-12)\n",
    "print (10*12)\n",
    "print (10/12)\n",
    "\n",
    "print(10%3) #modulus - reminder\n",
    "print(10**2) #power\n",
    "print (10//3) #floor division\n",
    "print (round(10.7523,2))"
   ]
  },
  {
   "cell_type": "code",
   "execution_count": 10,
   "metadata": {},
   "outputs": [
    {
     "name": "stdout",
     "output_type": "stream",
     "text": [
      "1.75\n"
     ]
    }
   ],
   "source": [
    "print(1+6-3/4*7) #bodmas rule"
   ]
  },
  {
   "cell_type": "code",
   "execution_count": 11,
   "metadata": {},
   "outputs": [
    {
     "name": "stdout",
     "output_type": "stream",
     "text": [
      "True\n",
      "False\n",
      "False\n",
      "True\n",
      "True\n",
      "True\n",
      "False\n"
     ]
    }
   ],
   "source": [
    "#comparision operator\n",
    "\n",
    "print(10>5)\n",
    "print (10<5)\n",
    "print(10==5) \n",
    "print(\"nivi\"==\"nivi\")\n",
    "print(10!=5)\n",
    "print(10>=5) \n",
    "print(10<=5)"
   ]
  },
  {
   "cell_type": "code",
   "execution_count": 13,
   "metadata": {},
   "outputs": [
    {
     "name": "stdout",
     "output_type": "stream",
     "text": [
      "True\n"
     ]
    }
   ],
   "source": [
    "print(10>2<3)"
   ]
  },
  {
   "cell_type": "code",
   "execution_count": 15,
   "metadata": {},
   "outputs": [
    {
     "name": "stdout",
     "output_type": "stream",
     "text": [
      "True\n",
      "1\n",
      "a\n",
      "c\n"
     ]
    }
   ],
   "source": [
    "#logical\n",
    "print(True or False)\n",
    "print(1 or False)\n",
    "print(\"a\" or \"b\")\n",
    "print(False or \"c\")"
   ]
  },
  {
   "cell_type": "code",
   "execution_count": 16,
   "metadata": {},
   "outputs": [
    {
     "name": "stdout",
     "output_type": "stream",
     "text": [
      "False\n",
      "False\n",
      "b\n",
      "False\n"
     ]
    }
   ],
   "source": [
    "print(True and False)\n",
    "print(1 and False)\n",
    "print(\"a\" and \"b\")\n",
    "print(False and \"c\")"
   ]
  },
  {
   "cell_type": "code",
   "execution_count": 17,
   "metadata": {},
   "outputs": [
    {
     "name": "stdout",
     "output_type": "stream",
     "text": [
      "0\n",
      "1\n"
     ]
    }
   ],
   "source": [
    "print(1 & False) #and\n",
    "print(1 | False) #or"
   ]
  },
  {
   "cell_type": "code",
   "execution_count": 19,
   "metadata": {},
   "outputs": [
    {
     "name": "stdout",
     "output_type": "stream",
     "text": [
      "\n",
      "a\n"
     ]
    }
   ],
   "source": [
    "print(\"\" and \"a\")\n",
    "print(\"\" or \"a\")"
   ]
  },
  {
   "cell_type": "code",
   "execution_count": 23,
   "metadata": {},
   "outputs": [
    {
     "name": "stdout",
     "output_type": "stream",
     "text": [
      "True\n",
      "a\n"
     ]
    }
   ],
   "source": [
    "print (True or False and False)  # first and excecutes \n",
    "print(\"a\" or False or \"b\")"
   ]
  },
  {
   "cell_type": "code",
   "execution_count": 1,
   "metadata": {},
   "outputs": [
    {
     "name": "stdout",
     "output_type": "stream",
     "text": [
      "<class 'int'>\n",
      "<class 'float'>\n",
      "<class 'str'>\n",
      "<class 'bool'>\n",
      "<class 'NoneType'>\n"
     ]
    }
   ],
   "source": [
    "#Data tyes\n",
    "\n",
    "a=10 #int\n",
    "b=2.223 #float\n",
    "c=\"hello\" #text/string\n",
    "d=True #boolean\n",
    "e=None #none\n",
    "\n",
    "print(type(a))\n",
    "print(type(b))\n",
    "print(type(c))\n",
    "print(type(d))\n",
    "print(type(e))"
   ]
  },
  {
   "cell_type": "code",
   "execution_count": 2,
   "metadata": {},
   "outputs": [
    {
     "name": "stdout",
     "output_type": "stream",
     "text": [
      "<class 'list'>\n",
      "<class 'list'>\n"
     ]
    }
   ],
   "source": [
    "f=[1,2,3,4,5,\"nivi\"]\n",
    "d=[1,2,3,4,]\n",
    "\n",
    "print(type(f))\n",
    "print(type(d))"
   ]
  },
  {
   "cell_type": "code",
   "execution_count": 5,
   "metadata": {},
   "outputs": [
    {
     "name": "stdout",
     "output_type": "stream",
     "text": [
      "Good morning\n",
      "G\n",
      "Good m\n",
      "Go onn\n",
      "Good morning\n",
      "Good \n",
      "m dooG\n",
      "g\n",
      "gninrom dooG\n"
     ]
    }
   ],
   "source": [
    "#string methods/operations\n",
    "\n",
    "a=\"Good morning\"\n",
    "print(a)\n",
    "print(a[0])  # slicing or selecting a particuler place value\n",
    "print(a[0:6])\n",
    "\n",
    "print(a[0:12:2]) #interval/step interval [start:end:interval]\n",
    "print(a[0:]) # takes end value till last value present by itself\n",
    "print(a[:5]) # start it takes itself first value\n",
    "print(a[5::-1]) # it takes first 5 value and by -1 it will reverse it\n",
    "print(a[-1]) # gives last value\n",
    "print(a[::-1]) # complete reverse"
   ]
  },
  {
   "cell_type": "code",
   "execution_count": 11,
   "metadata": {},
   "outputs": [
    {
     "name": "stdout",
     "output_type": "stream",
     "text": [
      "GOOD MORNING\n",
      "good morning\n",
      "Good morning\n",
      "5\n",
      "1\n",
      "-1\n",
      "-1\n",
      "3\n",
      "12\n"
     ]
    }
   ],
   "source": [
    "a= \"Good morning\"\n",
    "\n",
    "#all this works in string that is y we put dot .\n",
    "print(a.upper()) #upper case\n",
    "print(a.lower()) #lower case\n",
    "print(a.capitalize()) #camel case / first letter upper case\n",
    "print(a.index(\"mo\")) #it will find particular\n",
    "print(a.find(\"oo\")) # same as index \n",
    "#diff btw index and find - \n",
    "# if value is not present index give error ,\n",
    "# find gives -1 output\n",
    "print(a.find(\"3\")) \n",
    "print(a.find(\"a\",6,20)) # it find val btw start and end \n",
    "\n",
    "print(a.count(\"o\")) #gives no of times val is present\n",
    "\n",
    "#length is used in all not only in str-it is common func \n",
    "print(len(a)) #gives length (it is function others are method)\n"
   ]
  },
  {
   "cell_type": "code",
   "execution_count": 14,
   "metadata": {},
   "outputs": [
    {
     "name": "stdout",
     "output_type": "stream",
     "text": [
      "False\n",
      "True\n",
      "False\n",
      "False\n"
     ]
    }
   ],
   "source": [
    "b =\"123niveditha\"\n",
    "\n",
    "print(a.isalpha()) #checks whether all are alphabet\n",
    "print(b.isalnum()) #checks whther alphabet and number nother char\n",
    "print (b.isnumeric()) #checks only number\n",
    "print(b.isspace()) #checks whether only space"
   ]
  },
  {
   "cell_type": "code",
   "execution_count": 15,
   "metadata": {},
   "outputs": [
    {
     "name": "stdout",
     "output_type": "stream",
     "text": [
      "good morning\n",
      "good morning\n",
      "good morning\n"
     ]
    }
   ],
   "source": [
    "d=\"good morning\"\n",
    "print(d.replace(\"a\",\"z\")) #change all a to Z\n",
    "print(d.replace(\"a\",\"Z\",1)) # change first count a to z\n",
    "print(d.replace(\"a\",\"z\",2)) # changes till 2 count a into z"
   ]
  },
  {
   "cell_type": "code",
   "execution_count": 16,
   "metadata": {},
   "outputs": [
    {
     "name": "stdout",
     "output_type": "stream",
     "text": [
      "True\n",
      "True\n"
     ]
    }
   ],
   "source": [
    "c=\"what is data science\"\n",
    "\n",
    "print(c.startswith(\"what\"))\n",
    "print(c.endswith(\"science\"))"
   ]
  },
  {
   "cell_type": "code",
   "execution_count": 24,
   "metadata": {},
   "outputs": [
    {
     "name": "stdout",
     "output_type": "stream",
     "text": [
      "['what', 'is', 'data', 'science']\n",
      "['wh', 't is d', 't', ' science']\n",
      "what*is*data*science\n",
      "whatisdatascience\n",
      "what is data science\n"
     ]
    }
   ],
   "source": [
    "a=\"what is data science\"\n",
    "\n",
    "print(a.split())  # breaks the value when space comes and gives in list\n",
    "print(a.split(\"a\")) #it splits where a comes\n",
    "\n",
    "d=['what', 'is', 'data', 'science']\n",
    "\n",
    "print(\"*\".join(d))\n",
    "print(\"\".join(d))"
   ]
  },
  {
   "cell_type": "code",
   "execution_count": 29,
   "metadata": {},
   "outputs": [
    {
     "name": "stdout",
     "output_type": "stream",
     "text": [
      "hello nivi,how is life\n",
      "hello nivi ,how is life\n",
      "\t hello nivi , how is life\n",
      "\\n hello nivi,how is life\n",
      "\t helloji,how r u\n",
      "\t hello{a},how r u\n",
      "\\thiji\n"
     ]
    }
   ],
   "source": [
    "#String formatting\n",
    "\n",
    "print(\"hello nivi,how is life\")\n",
    "print(\"hello {} ,how is life\".format(\"nivi\"))\n",
    "# formatted string it formats and give op\n",
    "print(f\"\\t hello nivi , how is life\")\n",
    "# raw string gives as it is\n",
    "print(r\"\\n hello nivi,how is life\") \n",
    "#\\t =tab\n",
    "#\\n new line\n",
    "a=\"ji\"\n",
    "print(f\"\\t hello{a},how r u\")\n",
    "print(\"\\t hello{a},how r u\")\n",
    "print(r\"\\t\"+ f\"hi{a}\")\n"
   ]
  },
  {
   "cell_type": "code",
   "execution_count": 1,
   "metadata": {},
   "outputs": [
    {
     "name": "stdout",
     "output_type": "stream",
     "text": [
      "24\n",
      "5\n"
     ]
    }
   ],
   "source": [
    "c=\"\\n hello nivi how is life\"\n",
    "print(len(c))\n",
    "print(len(c.split()))"
   ]
  },
  {
   "cell_type": "code",
   "execution_count": 8,
   "metadata": {},
   "outputs": [
    {
     "name": "stdout",
     "output_type": "stream",
     "text": [
      "[1]\n",
      "[5, 4, 3, 2, 1]\n",
      "ram\n",
      "m\n",
      "vij\n"
     ]
    }
   ],
   "source": [
    "#list and its methods\n",
    "\n",
    "a=[1,2,3,4,5]\n",
    "print(a[0:1])\n",
    "print(a[::-1])\n",
    "\n",
    "b=[\"ram\",\"justin\",\"vijay\",\"surya\",\"sam\"]\n",
    "print(b[0])\n",
    "print(b[0][2])\n",
    "print(b[2][0:3])\n"
   ]
  },
  {
   "cell_type": "code",
   "execution_count": 13,
   "metadata": {},
   "outputs": [
    {
     "name": "stdout",
     "output_type": "stream",
     "text": [
      "[1, 2, 3, 4, 5]\n"
     ]
    }
   ],
   "source": [
    "c=[\"ram\",\"justin\",\"vijay\",\"surya\",\"sam\",[1,2,3,4,5]]\n",
    "print(c[5][0:5])"
   ]
  },
  {
   "cell_type": "code",
   "execution_count": 20,
   "metadata": {},
   "outputs": [
    {
     "name": "stdout",
     "output_type": "stream",
     "text": [
      "[1, 2, 3, 4, 5, 'guvi']\n",
      "[1, 2, 3, 4, 5, 'guvi', '1,4']\n"
     ]
    }
   ],
   "source": [
    "# Methods in list\n",
    "\n",
    "# list is mutable (while running itself we can change , update do other actions)\n",
    "# Tuple is immutable (we need to change complete code cannot done whiel running)\n",
    "\n",
    "a=[1,2,3,4,5]\n",
    "a.append(\"guvi\")\n",
    "print(a)\n",
    "#b=input(\"Enther input\")\n",
    "#a.append(b)\n",
    "a.append(input(\"Enter input\"))\n",
    "print(a)"
   ]
  },
  {
   "cell_type": "code",
   "execution_count": 17,
   "metadata": {},
   "outputs": [
    {
     "name": "stdout",
     "output_type": "stream",
     "text": [
      "1\n"
     ]
    }
   ],
   "source": [
    "a,b,c = [1,2,3]\n",
    "print(a)"
   ]
  },
  {
   "cell_type": "code",
   "execution_count": 1,
   "metadata": {},
   "outputs": [
    {
     "name": "stdout",
     "output_type": "stream",
     "text": [
      "[9, 1, 2, 3, 4, 5]\n",
      "False\n",
      "3\n",
      "1\n"
     ]
    }
   ],
   "source": [
    "#list\n",
    "a=[1,2,3,4,5]\n",
    "a.insert(0,9) # insert value in list\n",
    "print(a)\n",
    "print(8 in a) # checks whther item is present or not \n",
    "print(a.index(3)) # index -finding value in list\n",
    "print(a.count(2)) "
   ]
  },
  {
   "cell_type": "code",
   "execution_count": 32,
   "metadata": {},
   "outputs": [
    {
     "name": "stdout",
     "output_type": "stream",
     "text": [
      "[1, 2, 3, ['a', 'b', 'c'], 'a', 'b', 'c']\n"
     ]
    }
   ],
   "source": [
    "a=[1,2,3]\n",
    "a.append([\"a\",\"b\",\"c\"]) \n",
    "a.extend([\"a\",\"b\",\"c\"])\n",
    "print(a)"
   ]
  },
  {
   "cell_type": "code",
   "execution_count": 35,
   "metadata": {},
   "outputs": [
    {
     "name": "stdout",
     "output_type": "stream",
     "text": [
      "3\n",
      "[1, 4, 5, 6]\n",
      "[1, 4, 6]\n"
     ]
    }
   ],
   "source": [
    "a=[1,2,3,4,5,6]\n",
    "b=a.pop(2) # give index ,temporarly it removes and store in another variable\n",
    "print(b)\n",
    "del a[1] # give index,deletes the value present  , completey deletes from memory\n",
    "print(a)\n",
    "a.remove(5) # we can give value itself , removes first occurance when the list is repeated\n",
    "print(a)"
   ]
  },
  {
   "cell_type": "code",
   "execution_count": 38,
   "metadata": {},
   "outputs": [
    {
     "name": "stdout",
     "output_type": "stream",
     "text": [
      "[1, 2, 4, 5, 6]\n",
      "3\n",
      "[1, 2, 4, 5, 6, 3]\n",
      "6\n"
     ]
    }
   ],
   "source": [
    "a=[1,2,3,4,5,6]\n",
    "b=a.pop(2)\n",
    "print(a)\n",
    "print(b)\n",
    "a.append(b)\n",
    "print(a)\n",
    "b=a[1:5].pop(3)\n",
    "print(b)"
   ]
  },
  {
   "cell_type": "code",
   "execution_count": 39,
   "metadata": {},
   "outputs": [
    {
     "name": "stdout",
     "output_type": "stream",
     "text": [
      "5\n"
     ]
    }
   ],
   "source": [
    "a=[1,2,3,4,5,6]\n",
    "b=a[1:5].pop(3)\n",
    "print(b)"
   ]
  },
  {
   "cell_type": "code",
   "execution_count": null,
   "metadata": {},
   "outputs": [
    {
     "data": {
      "text/plain": [
       "1"
      ]
     },
     "execution_count": 1,
     "metadata": {},
     "output_type": "execute_result"
    }
   ],
   "source": [
    "# Tuple is not mutable\n",
    "\n",
    "a=(1,2,3,4)\n",
    "a.count(2)\n",
    "#a.pop(1)\n",
    "#a.index(2)"
   ]
  }
 ],
 "metadata": {
  "kernelspec": {
   "display_name": "Python 3",
   "language": "python",
   "name": "python3"
  },
  "language_info": {
   "codemirror_mode": {
    "name": "ipython",
    "version": 3
   },
   "file_extension": ".py",
   "mimetype": "text/x-python",
   "name": "python",
   "nbconvert_exporter": "python",
   "pygments_lexer": "ipython3",
   "version": "3.12.8"
  }
 },
 "nbformat": 4,
 "nbformat_minor": 2
}
