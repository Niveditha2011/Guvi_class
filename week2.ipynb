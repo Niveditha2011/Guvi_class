{
 "cells": [
  {
   "cell_type": "code",
   "execution_count": 1,
   "metadata": {},
   "outputs": [
    {
     "name": "stdout",
     "output_type": "stream",
     "text": [
      "{1, 2, 3, 4, 5}\n",
      "{'name': 'Nivi', 'degree': ['Btech', 'Mtech'], 'experience': 4}\n",
      "Nivi\n",
      "['Btech', 'Mtech']\n",
      "madhu\n",
      "{'name': 'raghu', 'degree': ['Btech', 'Mtech'], 'experience': 4}\n"
     ]
    }
   ],
   "source": [
    "#dictionary and set\n",
    "\n",
    "#set\n",
    "a={1,2,3,4,5}\n",
    "print(a)\n",
    "\n",
    "#dictionary\n",
    "#key:value  (key is unique index value is int or str or etc)\n",
    "#key cannot be duplicated\n",
    "a={\"name\":\"Nivi\",\"degree\":[\"Btech\",\"Mtech\"],\"experience\":4}\n",
    "print(a)\n",
    "print(a[\"name\"])\n",
    "print(a[\"degree\"])\n",
    "\n",
    "b={\"name\":\"Nivi\",\"degree\":[\"Btech\",\"Mtech\"],\"experience\":4,\"name\":\"madhu\"}\n",
    "print(b[\"name\"]) #if key is duplicated it takes lastkey a value\n",
    "\n",
    "c={\"name\":\"Nivi\",\"degree\":[\"Btech\",\"Mtech\"],\"experience\":4}\n",
    "c[\"name\"]=\"raghu\" #if u want to update the value\n",
    "print(c)"
   ]
  },
  {
   "cell_type": "code",
   "execution_count": 2,
   "metadata": {},
   "outputs": [
    {
     "name": "stdout",
     "output_type": "stream",
     "text": [
      "name\n",
      "degree\n",
      "experience\n",
      "raghu\n",
      "['Btech', 'Mtech']\n",
      "4\n",
      "dict_keys(['name', 'degree', 'experience'])\n",
      "dict_values(['raghu', ['Btech', 'Mtech'], 4])\n",
      "dict_items([('name', 'raghu'), ('degree', ['Btech', 'Mtech']), ('experience', 4)])\n"
     ]
    }
   ],
   "source": [
    "a={\"name\":\"Nivi\",\"degree\":[\"Btech\",\"Mtech\"],\"experience\":4}\n",
    "for i in a:\n",
    "    print(i)\n",
    "\n",
    "for i in a:\n",
    "    print(c[i])\n",
    "\n",
    "print(c.keys()) # to get key\n",
    "print(c.values()) #to get values\n",
    "print(c.items()) #to get all"
   ]
  },
  {
   "cell_type": "code",
   "execution_count": 1,
   "metadata": {},
   "outputs": [
    {
     "name": "stdout",
     "output_type": "stream",
     "text": [
      "{'name': 'nivi', 'degree': ['Bsc', 'Btech'], 'experience': 3}\n",
      "{'name': 'nivi', 'degree': ['Bsc', 'Btech'], 'experience': 3, 'city': 'chennai'}\n",
      "{'name': 'nivi', 'degree': ['Bsc', 'Btech'], 'city': 'chennai'}\n"
     ]
    }
   ],
   "source": [
    "c={\"name\":\"nivi\",\"degree\":[\"Bsc\",\"Btech\"],\"experience\":3}\n",
    "\n",
    "#update\n",
    "c[\"name\"]=\"nivi\"\n",
    "print(c)\n",
    "\n",
    "#add\n",
    "c[\"city\"]=\"chennai\"\n",
    "print(c)\n",
    "\n",
    "#delete\n",
    "del c[\"experience\"]\n",
    "print(c)"
   ]
  },
  {
   "cell_type": "code",
   "execution_count": 3,
   "metadata": {},
   "outputs": [
    {
     "name": "stdout",
     "output_type": "stream",
     "text": [
      "HI\n"
     ]
    }
   ],
   "source": [
    "#If and else\n",
    "\n",
    "a=66\n",
    "if a>10:\n",
    "    print(\"HI\")\n",
    "else:\n",
    "    print(\"error\")"
   ]
  },
  {
   "cell_type": "code",
   "execution_count": 4,
   "metadata": {},
   "outputs": [
    {
     "name": "stdout",
     "output_type": "stream",
     "text": [
      "phone unlocked\n"
     ]
    }
   ],
   "source": [
    "a=input(\"Enter passcode:\")\n",
    "b=input(\"ENter fingerpoiny:\")\n",
    "c=input(\"Enter FAceID:\")\n",
    "\n",
    "if a==\"1234\" or b==\"FNR\" or c==\"AS321\":\n",
    "    print(\"phone unlocked\")\n",
    "else:\n",
    "    print(\"try again\")"
   ]
  },
  {
   "cell_type": "code",
   "execution_count": null,
   "metadata": {},
   "outputs": [],
   "source": [
    "sum=0\n",
    "for a in range"
   ]
  },
  {
   "cell_type": "code",
   "execution_count": 2,
   "metadata": {},
   "outputs": [
    {
     "name": "stdout",
     "output_type": "stream",
     "text": [
      "NIVEDITHA\n"
     ]
    }
   ],
   "source": [
    "a=\"\"\n",
    "for i in \"niveditha\":\n",
    "    a=a+i.upper()\n",
    "print(a)"
   ]
  },
  {
   "cell_type": "code",
   "execution_count": null,
   "metadata": {},
   "outputs": [
    {
     "name": "stdout",
     "output_type": "stream",
     "text": [
      "46\n"
     ]
    }
   ],
   "source": [
    "#list\n",
    "a=0\n",
    "for i in [1,2,3,4,32,2,2]:\n",
    "        a+=i\n",
    "print(a)"
   ]
  },
  {
   "cell_type": "code",
   "execution_count": 7,
   "metadata": {},
   "outputs": [
    {
     "name": "stdout",
     "output_type": "stream",
     "text": [
      "17\n"
     ]
    }
   ],
   "source": [
    "#tuple\n",
    "a=0\n",
    "for i in (1,2,3,3,4,4):\n",
    "    a+=i\n",
    "print(a)"
   ]
  },
  {
   "cell_type": "code",
   "execution_count": null,
   "metadata": {},
   "outputs": [],
   "source": [
    "#nested loop\n",
    "for idly in range(100):\n",
    "    for sides in(\"sambar\",\"chutney\"):\n",
    "        if idly==99:\n",
    "            print(\"shop closed\")"
   ]
  },
  {
   "cell_type": "code",
   "execution_count": null,
   "metadata": {},
   "outputs": [],
   "source": [
    "#while = it works only when condition passes"
   ]
  },
  {
   "cell_type": "code",
   "execution_count": null,
   "metadata": {},
   "outputs": [],
   "source": [
    "#break , CONTINUE , PAss"
   ]
  },
  {
   "cell_type": "code",
   "execution_count": null,
   "metadata": {},
   "outputs": [
    {
     "name": "stdout",
     "output_type": "stream",
     "text": [
      "1 4\n",
      "2 4\n",
      "3 4\n",
      "4 4\n",
      "5 4\n",
      "6 5\n",
      "7 5\n",
      "8 5\n",
      "9 5\n",
      "10 5\n"
     ]
    }
   ],
   "source": [
    "a=0\n",
    "b=3\n",
    "while b<5:\n",
    "    b+=1\n",
    "   # print(b)\n",
    "    while a<10:\n",
    "        a+=1\n",
    "        print(a,b)\n",
    "        if a==5:\n",
    "            break "
   ]
  },
  {
   "cell_type": "code",
   "execution_count": null,
   "metadata": {},
   "outputs": [
    {
     "name": "stdout",
     "output_type": "stream",
     "text": [
      "1\n",
      "2\n",
      "3\n",
      "4\n",
      "6\n",
      "7\n",
      "8\n",
      "9\n",
      "10\n"
     ]
    }
   ],
   "source": [
    "a=0\n",
    "while a<10:\n",
    "        a+=1\n",
    "        if a==5:\n",
    "            continue #it skips that particular loop\n",
    "        print(a)"
   ]
  },
  {
   "cell_type": "code",
   "execution_count": null,
   "metadata": {},
   "outputs": [
    {
     "name": "stdout",
     "output_type": "stream",
     "text": [
      "1\n",
      "2\n",
      "3\n",
      "4\n",
      "5\n",
      "6\n",
      "7\n",
      "8\n",
      "9\n",
      "10\n"
     ]
    }
   ],
   "source": [
    "a=0\n",
    "while a<10:\n",
    "        a+=1\n",
    "        if a==5:\n",
    "            pass #do nothing\n",
    "        print(a)"
   ]
  },
  {
   "cell_type": "code",
   "execution_count": null,
   "metadata": {},
   "outputs": [
    {
     "name": "stdout",
     "output_type": "stream",
     "text": [
      "0 is not divisible\n"
     ]
    }
   ],
   "source": [
    "#try and except\n",
    "try:\n",
    "    print(4/0)\n",
    "except ZeroDivisionError:\n",
    "    print(\"0 is not divisible\")"
   ]
  },
  {
   "cell_type": "code",
   "execution_count": null,
   "metadata": {},
   "outputs": [],
   "source": [
    "# if we dont what is error we can use thios exception\n",
    "try:\n",
    "    print(z/0)\n",
    "except Exception as E:\n",
    "    print(E)"
   ]
  },
  {
   "cell_type": "code",
   "execution_count": null,
   "metadata": {},
   "outputs": [
    {
     "ename": "ValueError",
     "evalue": "Nivi",
     "output_type": "error",
     "traceback": [
      "\u001b[1;31m---------------------------------------------------------------------------\u001b[0m",
      "\u001b[1;31mValueError\u001b[0m                                Traceback (most recent call last)",
      "Cell \u001b[1;32mIn[47], line 4\u001b[0m\n\u001b[0;32m      2\u001b[0m     \u001b[38;5;28;01mif\u001b[39;00m a\u001b[38;5;241m>\u001b[39m\u001b[38;5;241m10\u001b[39m:\n\u001b[0;32m      3\u001b[0m         \u001b[38;5;28;01mraise\u001b[39;00m \u001b[38;5;167;01mValueError\u001b[39;00m(\u001b[38;5;124m\"\u001b[39m\u001b[38;5;124mNivi\u001b[39m\u001b[38;5;124m\"\u001b[39m)\n\u001b[1;32m----> 4\u001b[0m \u001b[43mclas\u001b[49m\u001b[43m(\u001b[49m\u001b[38;5;241;43m11\u001b[39;49m\u001b[43m)\u001b[49m\n",
      "Cell \u001b[1;32mIn[47], line 3\u001b[0m, in \u001b[0;36mclas\u001b[1;34m(a)\u001b[0m\n\u001b[0;32m      1\u001b[0m \u001b[38;5;28;01mdef\u001b[39;00m\u001b[38;5;250m \u001b[39m\u001b[38;5;21mclas\u001b[39m(a):\n\u001b[0;32m      2\u001b[0m     \u001b[38;5;28;01mif\u001b[39;00m a\u001b[38;5;241m>\u001b[39m\u001b[38;5;241m10\u001b[39m:\n\u001b[1;32m----> 3\u001b[0m         \u001b[38;5;28;01mraise\u001b[39;00m \u001b[38;5;167;01mValueError\u001b[39;00m(\u001b[38;5;124m\"\u001b[39m\u001b[38;5;124mNivi\u001b[39m\u001b[38;5;124m\"\u001b[39m)\n",
      "\u001b[1;31mValueError\u001b[0m: Nivi"
     ]
    }
   ],
   "source": [
    "#raise will give error by ourself when there is no error\n",
    "def clas(a):\n",
    "    if a>10:\n",
    "        raise ValueError(\"Nivi\")\n",
    "clas(11)\n"
   ]
  },
  {
   "cell_type": "code",
   "execution_count": null,
   "metadata": {},
   "outputs": [],
   "source": [
    "#  FUNCTION\n",
    "\"\"\" \n",
    "OWN /user defined\n",
    "> reuse\n",
    "> organise\n",
    ">modularise\n",
    "\"\"\"\n",
    "# def means definition"
   ]
  },
  {
   "cell_type": "code",
   "execution_count": 51,
   "metadata": {},
   "outputs": [
    {
     "data": {
      "text/plain": [
       "9"
      ]
     },
     "execution_count": 51,
     "metadata": {},
     "output_type": "execute_result"
    }
   ],
   "source": [
    "def guvi():\n",
    "    a=int(input())\n",
    "    b=int(input())\n",
    "    return a+b\n",
    "    print(\"nivi\") #after return it does not work\n",
    "\n",
    "guvi() # calling the function"
   ]
  },
  {
   "cell_type": "code",
   "execution_count": null,
   "metadata": {},
   "outputs": [],
   "source": [
    "#types of arguments"
   ]
  },
  {
   "cell_type": "code",
   "execution_count": 4,
   "metadata": {},
   "outputs": [
    {
     "name": "stdout",
     "output_type": "stream",
     "text": [
      "4\n",
      "8\n"
     ]
    },
    {
     "data": {
      "text/plain": [
       "12"
      ]
     },
     "execution_count": 4,
     "metadata": {},
     "output_type": "execute_result"
    }
   ],
   "source": [
    "def val(a,b):\n",
    "    print(a)\n",
    "    print(b)\n",
    "    return a+b\n",
    "\n",
    "#val(3,4)\n",
    "val(b=8,a=4)"
   ]
  },
  {
   "cell_type": "code",
   "execution_count": null,
   "metadata": {},
   "outputs": [
    {
     "data": {
      "text/plain": [
       "15"
      ]
     },
     "execution_count": 5,
     "metadata": {},
     "output_type": "execute_result"
    }
   ],
   "source": [
    "def add_list(a):\n",
    "    x=0\n",
    "    for i in a:\n",
    "        x+=i\n",
    "    return x\n",
    "\n",
    "a=[1,2,3,4,5]\n",
    "add_list(a)"
   ]
  },
  {
   "cell_type": "code",
   "execution_count": null,
   "metadata": {},
   "outputs": [
    {
     "data": {
      "text/plain": [
       "'not valid type'"
      ]
     },
     "execution_count": 7,
     "metadata": {},
     "output_type": "execute_result"
    }
   ],
   "source": [
    "def add_list(a):\n",
    "    if type(a)==list:  #checks whether type is list\n",
    "        x=0\n",
    "        for i in a:\n",
    "            x+=i\n",
    "        return x\n",
    "    else:\n",
    "        return \"not valid type\"\n",
    "\n",
    "a=2  #not a list\n",
    "add_list(a)"
   ]
  },
  {
   "cell_type": "code",
   "execution_count": null,
   "metadata": {},
   "outputs": [
    {
     "data": {
      "text/plain": [
       "30"
      ]
     },
     "execution_count": 10,
     "metadata": {},
     "output_type": "execute_result"
    }
   ],
   "source": [
    "#default argument or keyword argument\n",
    "\n",
    "def val(a,b,c=20):  #it replaces value 20 to 10 as in func calling it is given 10\n",
    "    return a+b+c\n",
    "#val(3,4)\n",
    "val(10,10,10)\n"
   ]
  },
  {
   "cell_type": "code",
   "execution_count": null,
   "metadata": {},
   "outputs": [
    {
     "name": "stdout",
     "output_type": "stream",
     "text": [
      "(5, 6, 7, 8, 9)\n"
     ]
    },
    {
     "data": {
      "text/plain": [
       "35"
      ]
     },
     "execution_count": 13,
     "metadata": {},
     "output_type": "execute_result"
    }
   ],
   "source": [
    "#variable arguments /orbitatory argu\n",
    "\n",
    "def bulb(*h):\n",
    "    print(h)\n",
    "    a=0\n",
    "    for i in h:\n",
    "        a+=i\n",
    "    return a\n",
    "\n",
    "bulb(5,6,7,8,9)"
   ]
  },
  {
   "cell_type": "code",
   "execution_count": 15,
   "metadata": {},
   "outputs": [
    {
     "name": "stdout",
     "output_type": "stream",
     "text": [
      "{'a': 5, 'b': 6, 'c': 9, 'd': 10}\n"
     ]
    },
    {
     "data": {
      "text/plain": [
       "30"
      ]
     },
     "execution_count": 15,
     "metadata": {},
     "output_type": "execute_result"
    }
   ],
   "source": [
    "#orbitatory  keyword arguments\n",
    "def bulb(**h): # ** it takes a keyword argu\n",
    "    print(h)\n",
    "    a=0\n",
    "    for i in h.values():\n",
    "        a+=i\n",
    "    return a\n",
    "\n",
    "bulb(a=5,b=6,c=9,d=10) # keyword is given"
   ]
  },
  {
   "cell_type": "code",
   "execution_count": 1,
   "metadata": {},
   "outputs": [
    {
     "name": "stdout",
     "output_type": "stream",
     "text": [
      "10\n"
     ]
    },
    {
     "data": {
      "text/plain": [
       "10"
      ]
     },
     "execution_count": 1,
     "metadata": {},
     "output_type": "execute_result"
    }
   ],
   "source": [
    "# scope and lifetime of variables\n",
    "\n",
    "x=10\n",
    "def guvi():\n",
    "    return x\n",
    "print(x)\n",
    "\n",
    "guvi()"
   ]
  },
  {
   "cell_type": "code",
   "execution_count": null,
   "metadata": {},
   "outputs": [
    {
     "name": "stdout",
     "output_type": "stream",
     "text": [
      "10\n"
     ]
    },
    {
     "data": {
      "text/plain": [
       "20"
      ]
     },
     "execution_count": 2,
     "metadata": {},
     "output_type": "execute_result"
    }
   ],
   "source": [
    "x=10      #global\n",
    "def guvi():\n",
    "    x=20    #local variable\n",
    "    return x  \n",
    "print(x)   #10\n",
    "\n",
    "guvi()     #20"
   ]
  },
  {
   "cell_type": "code",
   "execution_count": null,
   "metadata": {},
   "outputs": [
    {
     "name": "stdout",
     "output_type": "stream",
     "text": [
      "10\n"
     ]
    },
    {
     "ename": "UnboundLocalError",
     "evalue": "cannot access local variable 'x' where it is not associated with a value",
     "output_type": "error",
     "traceback": [
      "\u001b[1;31m---------------------------------------------------------------------------\u001b[0m",
      "\u001b[1;31mUnboundLocalError\u001b[0m                         Traceback (most recent call last)",
      "Cell \u001b[1;32mIn[4], line 7\u001b[0m\n\u001b[0;32m      4\u001b[0m     \u001b[38;5;28;01mreturn\u001b[39;00m x  \n\u001b[0;32m      5\u001b[0m \u001b[38;5;28mprint\u001b[39m(x)   \n\u001b[1;32m----> 7\u001b[0m \u001b[43mguvi\u001b[49m\u001b[43m(\u001b[49m\u001b[43m)\u001b[49m \n",
      "Cell \u001b[1;32mIn[4], line 3\u001b[0m, in \u001b[0;36mguvi\u001b[1;34m()\u001b[0m\n\u001b[0;32m      2\u001b[0m \u001b[38;5;28;01mdef\u001b[39;00m\u001b[38;5;250m \u001b[39m\u001b[38;5;21mguvi\u001b[39m():\n\u001b[1;32m----> 3\u001b[0m     \u001b[43mx\u001b[49m \u001b[38;5;241m+\u001b[39m\u001b[38;5;241m=\u001b[39m\u001b[38;5;241m20\u001b[39m    \n\u001b[0;32m      4\u001b[0m     \u001b[38;5;28;01mreturn\u001b[39;00m x\n",
      "\u001b[1;31mUnboundLocalError\u001b[0m: cannot access local variable 'x' where it is not associated with a value"
     ]
    }
   ],
   "source": [
    "x=10      \n",
    "def guvi():\n",
    "    x +=20   #error trying to change value of global x \n",
    "    return x  \n",
    "print(x)   \n",
    "\n",
    "guvi() "
   ]
  },
  {
   "cell_type": "code",
   "execution_count": null,
   "metadata": {},
   "outputs": [
    {
     "name": "stdout",
     "output_type": "stream",
     "text": [
      "10\n",
      "30\n",
      "50\n"
     ]
    }
   ],
   "source": [
    "x=10      \n",
    "def guvi():\n",
    "    global x #now it can take x and change the value\n",
    "    x +=20   \n",
    "    return x  \n",
    "print(x)   #10\n",
    "\n",
    "print(guvi()) #30\n",
    "print(guvi()) #50"
   ]
  },
  {
   "cell_type": "code",
   "execution_count": null,
   "metadata": {},
   "outputs": [],
   "source": [
    "#Recursive function and higher order function\n",
    "# a function which calls its own function is called recursive fucntion\n",
    "# FACTORIAL\n",
    "\n",
    "def factorial(n):\n",
    "    if n==0 or n==1:\n",
    "        return 1\n",
    "    else:\n",
    "        return (n*factorial(n-1))\n",
    "factorial(5)\n"
   ]
  },
  {
   "cell_type": "code",
   "execution_count": 9,
   "metadata": {},
   "outputs": [
    {
     "name": "stdout",
     "output_type": "stream",
     "text": [
      "5\n",
      "4\n",
      "3\n",
      "2\n",
      "1\n",
      "BOOM!\n"
     ]
    }
   ],
   "source": [
    "import time\n",
    "\n",
    "\n",
    "def time_bomb(seconds):\n",
    " if seconds == 0:\n",
    "   print(\"BOOM!\")\n",
    " else:\n",
    "   print(seconds)\n",
    "   time.sleep(1)\n",
    "   time_bomb(seconds - 1)\n",
    "\n",
    "\n",
    "time_bomb(5)\n"
   ]
  },
  {
   "cell_type": "code",
   "execution_count": null,
   "metadata": {},
   "outputs": [
    {
     "name": "stdout",
     "output_type": "stream",
     "text": [
      "ellam ok\n",
      "NIVI\n"
     ]
    }
   ],
   "source": [
    "#HO function \n",
    "# \n",
    "def guvi(func, x):\n",
    " return func(x)  # it is changing the variable into function\n",
    "\n",
    "def name(x):\n",
    " if x.isalpha():\n",
    "   return \"ellam ok\"\n",
    " else:\n",
    "   return \"not ok\"\n",
    "\n",
    "def upper_case(x):\n",
    " return x.upper()\n",
    "\n",
    "print(guvi(name,\"nivi\"))\n",
    "print(guvi(upper_case,\"nivi\"))\n",
    "\n"
   ]
  },
  {
   "cell_type": "code",
   "execution_count": null,
   "metadata": {},
   "outputs": [
    {
     "name": "stdout",
     "output_type": "stream",
     "text": [
      "30\n"
     ]
    }
   ],
   "source": [
    "#   LAMDA function\n",
    "# function without identify /also known as anonynms func\n",
    "# we can write only single line code\n",
    "a= lambda x, y : x+y\n",
    "print(a(10,20))"
   ]
  },
  {
   "cell_type": "code",
   "execution_count": null,
   "metadata": {},
   "outputs": [
    {
     "name": "stdout",
     "output_type": "stream",
     "text": [
      "30\n",
      "minor\n"
     ]
    }
   ],
   "source": [
    "x =lambda z:\"major\" if z>18 else \"minor\"\n",
    "print(x(18))\n",
    " # x is func , z is argument"
   ]
  },
  {
   "cell_type": "code",
   "execution_count": null,
   "metadata": {},
   "outputs": [
    {
     "data": {
      "text/plain": [
       "8"
      ]
     },
     "execution_count": 17,
     "metadata": {},
     "output_type": "execute_result"
    }
   ],
   "source": [
    "def guvi(a,b):\n",
    "    x=lambda a,b:a+b\n",
    "    return x(a,b)\n",
    "\n",
    "guvi(3,5)\n",
    "\n",
    "# using lambda in function"
   ]
  },
  {
   "cell_type": "code",
   "execution_count": 18,
   "metadata": {},
   "outputs": [
    {
     "data": {
      "text/plain": [
       "3"
      ]
     },
     "execution_count": 18,
     "metadata": {},
     "output_type": "execute_result"
    }
   ],
   "source": [
    "z= lambda a,b :guvi(a,b)\n",
    "z(1,2)"
   ]
  }
 ],
 "metadata": {
  "kernelspec": {
   "display_name": "Python 3",
   "language": "python",
   "name": "python3"
  },
  "language_info": {
   "codemirror_mode": {
    "name": "ipython",
    "version": 3
   },
   "file_extension": ".py",
   "mimetype": "text/x-python",
   "name": "python",
   "nbconvert_exporter": "python",
   "pygments_lexer": "ipython3",
   "version": "3.12.8"
  }
 },
 "nbformat": 4,
 "nbformat_minor": 2
}
