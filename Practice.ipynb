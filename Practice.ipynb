{
 "cells": [
  {
   "cell_type": "code",
   "execution_count": null,
   "metadata": {},
   "outputs": [],
   "source": [
    "\n",
    "\"\"\"1.You are provided with two numbers. Find and print the smaller number.\n",
    "Input Description:\n",
    "You are provided with two numbers as input.\n",
    "\n",
    "Output Description:\n",
    "Print the small number out of the two numbers.\n",
    "\n",
    "Sample Input :\n",
    "23 1\n",
    "Sample Output :\n",
    "1\"\"\"\n",
    "\n",
    "a,b = map(int,input().split())\n",
    "if a>b:\n",
    "  print (b)\n",
    "else:\n",
    "  print(a)"
   ]
  },
  {
   "cell_type": "code",
   "execution_count": null,
   "metadata": {},
   "outputs": [],
   "source": [
    "a,b = map(int,input().split())\n",
    "if a==b:\n",
    "  print(\"yes\")\n",
    "else:\n",
    "  print(\"no\")\n",
    "\n"
   ]
  },
  {
   "cell_type": "code",
   "execution_count": null,
   "metadata": {},
   "outputs": [],
   "source": [
    "\"\"\"You are given A = Length of a rectangle & B = breadth of a rectangle. Find its area “C”.\n",
    "\n",
    "(A and B are natural numbers)\n",
    "\n",
    "\n",
    "Input Description:\n",
    "The inputs are two natural numbers representing the length and the breadth of a rectangle.\n",
    "\n",
    "Output Description:\n",
    "Find the area of the rectangle formed by the provided input. Round off the answer to the first decimal place if required.\n",
    "\n",
    "Sample Input :\n",
    "2\n",
    "3\n",
    "Sample Output :\n",
    "6\"\"\"\n",
    "\n",
    "a = float(input())\n",
    "b = float(input())\n",
    "c = a*b\n",
    "print(round(c,1))"
   ]
  },
  {
   "cell_type": "code",
   "execution_count": null,
   "metadata": {},
   "outputs": [],
   "source": [
    "\"\"\"Using the method of looping, write a program to print the table of 9 till N in the format as follows:\n",
    "(N is input by the user)\n",
    "\n",
    "9 18 27...\n",
    "\n",
    "Print NULL if 0 is input\n",
    "\n",
    "\n",
    "Input Description:\n",
    "A positive integer is provided as an input.\n",
    "\n",
    "Output Description:\n",
    "Print the table of nine with single space between the elements till the number that is input.\n",
    "\n",
    "Sample Input :\n",
    "3\n",
    "Sample Output :\n",
    "9 18 27\"\"\"\n",
    "\n",
    "a = int(input())\n",
    "if a > 0 :\n",
    "  for i in range (1,a + 1):\n",
    "    b = 9 * i\n",
    "    if i != a:\n",
    "      print(b,end=\" \")\n",
    "    else:\n",
    "     print(b)\n",
    "else:\n",
    "  print(\"Null\")\n"
   ]
  },
  {
   "cell_type": "code",
   "execution_count": null,
   "metadata": {},
   "outputs": [],
   "source": [
    "\"\"\"You are given with a number \"N\", find its cube.\n",
    "\n",
    "\n",
    "Input Description:\n",
    "A positive integer is provided.\n",
    "\n",
    "Output Description:\n",
    "Find the cube of the number.\n",
    "\n",
    "Sample Input :\n",
    "2\n",
    "Sample Output :\n",
    "8\"\"\"\n",
    "\n",
    "a = int(input())\n",
    "b = a**3\n",
    "print(b)\n"
   ]
  },
  {
   "cell_type": "code",
   "execution_count": null,
   "metadata": {},
   "outputs": [],
   "source": [
    "\"\"\"You will be provided with a number. Print the number of days in the month corresponding to that number.\n",
    "\n",
    "Note: In case the input is February, print 28 days. If the Input is not in valid range print \"Error\".\n",
    "\n",
    "\n",
    "Input Description:\n",
    "The input is in the form of a number.\n",
    "\n",
    "Output Description:\n",
    "Find the days in the month corresponding to the input number. Print Error if the input is not in a valid range.\n",
    "\n",
    "Sample Input :\n",
    "8\n",
    "Sample Output :\n",
    "31\"\"\"\n",
    "\n",
    "month=int(input())\n",
    "days=[31,28,31,30,31,30,31,31,30,31,30,31]\n",
    "\n",
    "if 1<= month <=12:\n",
    "  print(days[month-1])\n",
    "else:\n",
    "  print(\"Error\")"
   ]
  },
  {
   "cell_type": "code",
   "execution_count": null,
   "metadata": {},
   "outputs": [],
   "source": [
    "\"\"\"The area of an equilateral triangle is ¼(√3a2) where \"a\" represents a side of the triangle. You are provided with the side \"a\". Find the area of the equilateral triangle.\n",
    "\n",
    "\n",
    "Input Description:\n",
    "The side of an equilateral triangle is provided as the input.\n",
    "\n",
    "Output Description:\n",
    "Find the area of the equilateral triangle and print the answer up to 2 decimal places after rounding off.\n",
    "\n",
    "Sample Input :\n",
    "20\n",
    "Sample Output :\n",
    "173.21\"\"\"\n",
    "\n",
    "import math\n",
    "#Getting input via STDIN\n",
    "a = int(input())\n",
    "b= (math.sqrt(3)*a**2)/4\n",
    "print(round(b,2))"
   ]
  },
  {
   "cell_type": "code",
   "execution_count": null,
   "metadata": {},
   "outputs": [],
   "source": [
    "\"\"\"\"You are given a number A in Kilometers. Convert this into B: Meters and C: Centi-Metres.\n",
    "\n",
    "\n",
    "Input Description:\n",
    "A number \"A\" representing some distance in kilometer is provided to you as the input.\n",
    "\n",
    "Output Description:\n",
    "Convert and print this value in meters and centimeters.\n",
    "\n",
    "Sample Input :\n",
    "2\n",
    "Sample Output :\n",
    "2000\n",
    "200000\"\"\"\n",
    "\n",
    "a = int(input())\n",
    "b = a*1000\n",
    "c= a*100000\n",
    "print(b)"
   ]
  },
  {
   "cell_type": "code",
   "execution_count": null,
   "metadata": {},
   "outputs": [],
   "source": [
    "\"\"\"You are given with a number A i.e. the temperature in Celcius. Write a program to convert this into Fahrenheit. \n",
    "\n",
    "Note: In case of decimal values, round-off to two decimal places.\n",
    "\n",
    "\n",
    "Input Description:\n",
    "A number is provided in Celcius as the input of the program.\n",
    "\n",
    "Output Description:\n",
    "The output shall be the temperature converted into Fahrenheit corresponding to the input value print up to two decimal places and round off if required.\n",
    "\n",
    "Sample Input :\n",
    "12\n",
    "Sample Output :\n",
    "53.60\n",
    "\"\"\"\n",
    "\n",
    "a = int(input())\n",
    "b = (9/5 *a)+32\n",
    "print(round(b,2))"
   ]
  },
  {
   "cell_type": "code",
   "execution_count": null,
   "metadata": {},
   "outputs": [],
   "source": [
    "\"\"\"You are provided with a number check whether its odd or even. \n",
    "\n",
    "Print \"Odd\" or \"Even\" for the corresponding cases.\n",
    "\n",
    "Note: In case of a decimal, Round off to nearest integer and then find the output. Incase the input is zero, print \"Zero\".\n",
    "\n",
    "\n",
    "Input Description:\n",
    "A number is provided as the input.\n",
    "\n",
    "Output Description:\n",
    "Find out whether the number is odd or even. Print \"Odd\" or \"Even\" for the corresponding cases. Note: In case of a decimal, Round off to nearest integer and then find the output. In case the input is zero, print \"Zero\".\n",
    "\n",
    "Sample Input :\n",
    "2\n",
    "Sample Output :\n",
    "Even\"\"\"\n",
    "\n",
    "a= int(input())\n",
    "if a%2==0:\n",
    "    print(\"Even\")\n",
    "else:\n",
    "    print(\"Odd\")\n"
   ]
  },
  {
   "cell_type": "code",
   "execution_count": null,
   "metadata": {},
   "outputs": [],
   "source": [
    "\"\"\"You are given Two Numbers, A and B. If C = A + B. Find C.\n",
    "\n",
    "Note: Round off the output to a single decimal place.\n",
    "\n",
    "\n",
    "Input Description:\n",
    "You are provided with two numbers A and B.\n",
    "\n",
    "Output Description:\n",
    "Find the sum of the two numbers (A + B)\n",
    "\n",
    "Sample Input :\n",
    "1\n",
    "1\n",
    "Sample Output :\n",
    "2\"\"\"\n",
    "\n",
    "a = int(input())\n",
    "b = int(input())\n",
    "c = a+b\n",
    "print(c)"
   ]
  },
  {
   "cell_type": "code",
   "execution_count": 2,
   "metadata": {},
   "outputs": [
    {
     "name": "stdout",
     "output_type": "stream",
     "text": [
      "2\n"
     ]
    }
   ],
   "source": [
    "\"\"\"You are provided with a number, \"N\". Find its factorial.\n",
    "\n",
    "\n",
    "Input Description:\n",
    "A positive integer is provided as an input.\n",
    "\n",
    "Output Description:\n",
    "Print the factorial of the integer.\n",
    "\n",
    "Sample Input :\n",
    "2\n",
    "Sample Output :\n",
    "2\"\"\"\n",
    "import math\n",
    "a = int(input())\n",
    "print(math.factorial(a))"
   ]
  },
  {
   "cell_type": "code",
   "execution_count": null,
   "metadata": {},
   "outputs": [],
   "source": [
    "\"\"\"Print the First 3 multiples of the given number \"N\". (N is a positive integer)\n",
    "\n",
    "Note: print the characters with a single space between them.\n",
    "\n",
    "\n",
    "Input Description:\n",
    "A positive integer is provided to you as an input.\n",
    "\n",
    "Output Description:\n",
    "Print the First 3 multiples of the number with single spaces between them as an output.\n",
    "\n",
    "Sample Input :\n",
    "2\n",
    "Sample Output :\n",
    "2 4 6\"\"\"\n",
    "\n",
    "a = int(input())\n",
    "for i in range (1,4):\n",
    "    b = a*i\n",
    "    if i<3 :\n",
    "      print(b,end=\" \")\n",
    "    else:\n",
    "      print (b)\n"
   ]
  },
  {
   "cell_type": "code",
   "execution_count": null,
   "metadata": {},
   "outputs": [],
   "source": [
    "\"\"\"You are provided with the radius of a circle \"A\". Find the length of its circumference.\n",
    "\n",
    "Note: In case the output is coming in decimal, roundoff to 2nd decimal place. In case the input is a negative number, print \"Error\".\n",
    "\n",
    "\n",
    "Input Description:\n",
    "The Radius of a circle is provided as the input of the program.\n",
    "\n",
    "Output Description:\n",
    "Calculate and print the Circumference of the circle corresponding to the input radius up to two decimal places.\n",
    "\n",
    "Sample Input :\n",
    "2\n",
    "Sample Output :\n",
    "12.57\"\"\"\n",
    "import math\n",
    "radius=float(input())\n",
    "if radius>=0:\n",
    "  circumstance = 2*math.pi*radius\n",
    "  print (round(circumstance,2))\n",
    "else:\n",
    "  print(\"Error\")"
   ]
  },
  {
   "cell_type": "code",
   "execution_count": null,
   "metadata": {},
   "outputs": [],
   "source": [
    "\"\"\"Write a code to get an integer N and print values from 1 till N in a separate line.\n",
    "\n",
    "\n",
    "Input Description:\n",
    "A single line contains an integer N.\n",
    "\n",
    "Output Description:\n",
    "Print the values from 1 to N in a separate line.\n",
    "\n",
    "Sample Input :\n",
    "5\n",
    "Sample Output :\n",
    "1\n",
    "2\n",
    "3\n",
    "4\n",
    "5\"\"\"\n",
    "\n",
    "n = int(input())\n",
    "for i in range (1,n+1):\n",
    "    print(i,sep=\"\\n\")"
   ]
  },
  {
   "cell_type": "code",
   "execution_count": null,
   "metadata": {},
   "outputs": [],
   "source": [
    "\"\"\"Let \"A\"  be a string. Remove all the whitespaces and find it's length.\n",
    "\n",
    "\n",
    "Input Description:\n",
    "A string is provide as an input\n",
    "\n",
    "Output Description:\n",
    "Remove all the whitespaces and then print the length of the remaining string.\n",
    "\n",
    "Sample Input :\n",
    "Lorem Ipsum\n",
    "Sample Output :\n",
    "10\"\"\"\n",
    "\n",
    "value = input()\n",
    "letter = list(filter(str.strip,value))\n",
    "count =0\n",
    "for i in range(len(letter)):\n",
    "    count += 1\n",
    "print(count)\n",
    "\n",
    "\n"
   ]
  },
  {
   "cell_type": "code",
   "execution_count": null,
   "metadata": {},
   "outputs": [],
   "source": []
  },
  {
   "cell_type": "code",
   "execution_count": null,
   "metadata": {},
   "outputs": [],
   "source": []
  },
  {
   "cell_type": "code",
   "execution_count": null,
   "metadata": {},
   "outputs": [],
   "source": [
    "\"\"\"Write a code to get an integer N and print the sum of  values from 1 to N.\n",
    "\n",
    "\n",
    "Input Description:\n",
    "A single line contains an integer N.\n",
    "\n",
    "Output Description:\n",
    "Print the sum of values from 1 to N.\n",
    "\n",
    "Sample Input :\n",
    "10\n",
    "Sample Output :\n",
    "55\"\"\"\n",
    "\n",
    "n = int (input())\n",
    "a = 0\n",
    "for i in range (1,n+1):\n",
    "  a = i+a\n",
    "print (a)"
   ]
  },
  {
   "cell_type": "code",
   "execution_count": null,
   "metadata": {},
   "outputs": [],
   "source": [
    "\"\"\"You are provided with a number \"N\", Find the Nth term of the series: 1, 4, 9, 16, 25, 36, 49, 64, 81, .......\n",
    "\n",
    "(Print \"Error\" if N = negative value and 0 if N = 0).\n",
    "\n",
    "\n",
    "Input Description:\n",
    "An integer N is provided to you as the input.\n",
    "\n",
    "Output Description:\n",
    "Find the Nth term in the provided series.\n",
    "\n",
    "Sample Input :\n",
    "18\n",
    "Sample Output :\n",
    "324\"\"\"\n",
    "n = int(input())\n",
    "if(n==0):\n",
    "  print(0)\n",
    "elif (n<0):\n",
    "  print (\"Error\")\n",
    "else:\n",
    "  sqaure = n*n\n",
    "  print(sqaure)\n"
   ]
  },
  {
   "cell_type": "code",
   "execution_count": null,
   "metadata": {},
   "outputs": [],
   "source": [
    "a = int(input())\n",
    "b = int(input())\n",
    "c = int(input())\n",
    "if a>b and a>c:\n",
    "  print(a)\n",
    "elif b>a and b>c:\n",
    "  print(b)\n",
    "elif c>a and c>b:\n",
    "  print(c)"
   ]
  },
  {
   "cell_type": "code",
   "execution_count": null,
   "metadata": {},
   "outputs": [],
   "source": [
    "\"\"\"Write a code to get 2 integers A and N. Print the integer A, N times in separate line.\n",
    "\n",
    "\n",
    "Input Description:\n",
    "First line contains an integer A. Second line contains an Integer N.\n",
    "\n",
    "Output Description:\n",
    "Print the integer A, N times in a separate line.\n",
    "\n",
    "Sample Input :\n",
    "2 3\n",
    "Sample Output :\n",
    "2\n",
    "2\n",
    "2\"\"\"\n",
    "\n",
    "val1,val2 = map(int,input().split())\n",
    "for i in range (1,val2+1):\n",
    "  print (val1)"
   ]
  },
  {
   "cell_type": "code",
   "execution_count": null,
   "metadata": {},
   "outputs": [],
   "source": [
    "#leapyear\n",
    "year = int(input())\n",
    "if (year%4==0) and (year%100!=0):\n",
    "  print(\"Y\")\n",
    "else:\n",
    "  print(\"N\")\n"
   ]
  },
  {
   "cell_type": "code",
   "execution_count": 13,
   "metadata": {},
   "outputs": [
    {
     "name": "stdout",
     "output_type": "stream",
     "text": [
      "ahtidevin\n"
     ]
    }
   ],
   "source": [
    "\"\"\"Write a program to get a string as input and reverse the string without using temporary variable.\n",
    "\n",
    "\n",
    "Input Description:\n",
    "A single line containing a string.\n",
    "\n",
    "Output Description:\n",
    "Print the reversed string.\n",
    "\n",
    "Sample Input :\n",
    "GUVI\n",
    "Sample Output :\n",
    "IVUG\n",
    "\"\"\"\n",
    "\n",
    "n = input()\n",
    "val = \"\"\n",
    "for i in n:\n",
    "  val = i + val\n",
    "print(val)"
   ]
  },
  {
   "cell_type": "code",
   "execution_count": 12,
   "metadata": {},
   "outputs": [
    {
     "name": "stdout",
     "output_type": "stream",
     "text": [
      "180.0\n"
     ]
    }
   ],
   "source": [
    "principle, rate , time = map (float,input().split())\n",
    "simpleInterest = (principle*rate*time)/100\n",
    "print(round(simpleInterest,2))"
   ]
  },
  {
   "cell_type": "code",
   "execution_count": 11,
   "metadata": {},
   "outputs": [
    {
     "name": "stdout",
     "output_type": "stream",
     "text": [
      "5\n",
      "5\n",
      "5\n",
      "5\n",
      "5\n"
     ]
    }
   ],
   "source": [
    "\"\"\"Output Description:\n",
    "Output contains 5 lines with each line having the value N.\n",
    "\n",
    "Sample Input :\n",
    "4\n",
    "Sample Output :\n",
    "4\n",
    "4\n",
    "4\n",
    "4\n",
    "4\"\"\"\n",
    "\n",
    "n = int(input())\n",
    "for i in range (1,5+1):\n",
    "  print(n)"
   ]
  },
  {
   "cell_type": "code",
   "execution_count": 10,
   "metadata": {},
   "outputs": [
    {
     "name": "stdout",
     "output_type": "stream",
     "text": [
      "5\n",
      "4\n",
      "3\n",
      "2\n",
      "1\n"
     ]
    }
   ],
   "source": [
    "\"\"\"Output Description:\n",
    "Print the values from N to 1 in a separate line.\n",
    "\n",
    "Sample Input :\n",
    "10\n",
    "Sample Output :\n",
    "10\n",
    "9\n",
    "8\n",
    "7\n",
    "6\n",
    "5\n",
    "4\n",
    "3\n",
    "2\n",
    "1\"\"\"\n",
    "\n",
    "n = int(input())\n",
    "for i in range (n,0,-1):\n",
    "  print(i)"
   ]
  },
  {
   "cell_type": "code",
   "execution_count": 14,
   "metadata": {},
   "outputs": [
    {
     "name": "stdout",
     "output_type": "stream",
     "text": [
      "10\n"
     ]
    }
   ],
   "source": [
    "\"\"\"n=int(input())\n",
    "b= 1\n",
    "val = list(map(int,str(n)))\n",
    "for i in range (len(val)):\n",
    "  b *= val[i]\n",
    "print(b)\"\"\"\n",
    "n=int(input())\n",
    "b= 0\n",
    "val = list(map(int,str(n)))\n",
    "for i in range (len(val)):\n",
    "  b += val[i]\n",
    "print(b)"
   ]
  },
  {
   "cell_type": "code",
   "execution_count": 15,
   "metadata": {},
   "outputs": [
    {
     "name": "stdout",
     "output_type": "stream",
     "text": [
      "6\n"
     ]
    }
   ],
   "source": [
    "#to multiply\n",
    "n=int(input())\n",
    "b= 1\n",
    "val = list(map(int,str(n)))\n",
    "for i in range (len(val)):\n",
    "  b *= val[i]\n",
    "print(b)"
   ]
  },
  {
   "cell_type": "code",
   "execution_count": null,
   "metadata": {},
   "outputs": [],
   "source": [
    "\"\"\"Write a code to get an integer N and print the even values from 1 till N in a separate line.\n",
    "\n",
    "\n",
    "Input Description:\n",
    "A single line contains an integer N.\n",
    "\n",
    "Output Description:\n",
    "Print the even values from 1 to N in a separate line.\n",
    "\n",
    "Sample Input :\n",
    "6\n",
    "Sample Output :\n",
    "2\n",
    "4\n",
    "6\"\"\"\n",
    "\n",
    "n=int(input())\n",
    "for i in range (1,n+1):\n",
    "  if i%2==0:\n",
    "    print(i)"
   ]
  },
  {
   "cell_type": "code",
   "execution_count": null,
   "metadata": {},
   "outputs": [],
   "source": [
    "#HCF\n",
    "\n",
    "import math\n",
    "a,b = map(int,input().split())\n",
    "hcf = math.gcd(a,b)\n",
    "print(hcf)\n",
    "\n"
   ]
  },
  {
   "cell_type": "code",
   "execution_count": null,
   "metadata": {},
   "outputs": [],
   "source": [
    "a = int(input())\n",
    "b,c = map(int,input().split())\n",
    "if a>b and a<c:\n",
    "  print(\"yes\")\n",
    "elif a<b and a>c:\n",
    "  print(\"yes\")\n",
    "else:\n",
    "  print(\"no\")"
   ]
  },
  {
   "cell_type": "code",
   "execution_count": null,
   "metadata": {},
   "outputs": [],
   "source": [
    "#area of triangle\n",
    "b,c = map(int,input().split())\n",
    "area = (b*c)/2\n",
    "if area<=1000000:\n",
    "  print(int(area))"
   ]
  },
  {
   "cell_type": "code",
   "execution_count": null,
   "metadata": {},
   "outputs": [],
   "source": [
    "a,b = map(int,input().split())\n",
    "element = list(map(str,input().split()))\n",
    "if len(element)==a:\n",
    "  print(element.count(b))\n",
    "  print(\"yes\")\n",
    "else:\n",
    "  print(\"-1\")"
   ]
  },
  {
   "cell_type": "code",
   "execution_count": null,
   "metadata": {},
   "outputs": [],
   "source": [
    "\"\"\"Given 2 numbers N and K followed by N elements,print the number of repetition of K otherwise print '-1' if the element not found.\n",
    "Sample Testcase :\n",
    "INPUT\n",
    "6 2\n",
    "1 2 3 5 7 8\n",
    "OUTPUT\n",
    "0\"\"\"\n",
    "\n",
    "a,b = map(int,input().split())\n",
    "flag = 0\n",
    "element = list(map(int,input().split()))\n",
    "if len(element)==a:\n",
    "  for i in range (len(element)):\n",
    "    if element[i]==b:\n",
    "      flag += 1\n",
    "      continue\n",
    "  flag -= 1\n",
    "  print(flag)\n",
    "else:\n",
    "  print(\"-1\")"
   ]
  },
  {
   "cell_type": "code",
   "execution_count": null,
   "metadata": {},
   "outputs": [],
   "source": [
    "\"\"\"Given numbers A,B find A^B.\n",
    "Input Size : 1 <= A <= 5 <= B <= 50\n",
    "Sample Testcase :\n",
    "INPUT\n",
    "3 4\n",
    "OUTPUT\n",
    "81\"\"\"\n",
    "\n",
    "a,b = map(int,input().split())\n",
    "value=1\n",
    "if a>=1 and a<=5:\n",
    "  if b>=1 and b<=50:\n",
    "    for i in range(1,b+1):\n",
    "      value = a*value\n",
    "    print(value)"
   ]
  },
  {
   "cell_type": "code",
   "execution_count": null,
   "metadata": {},
   "outputs": [],
   "source": [
    "\"\"\"Given a number N, print 'yes' if it is composite else print 'no'.\n",
    "Sample Testcase :\n",
    "INPUT\n",
    "123\n",
    "OUTPUT\n",
    "yes\"\"\"\n",
    "\n",
    "n=int(input())\n",
    "flag=0\n",
    "for i in range(2,n):\n",
    "  if n%i==0:\n",
    "    flag=1\n",
    "    print(\"yes\")\n",
    "    break\n",
    "if flag==0:\n",
    "  print(\"no\")"
   ]
  },
  {
   "cell_type": "code",
   "execution_count": null,
   "metadata": {},
   "outputs": [],
   "source": [
    "\"\"\"Write a program to print the sum of the first K natural numbers.\n",
    "Input Size : n <= 100000\n",
    "Sample Testcase :\n",
    "INPUT\n",
    "3\n",
    "OUTPUT\n",
    "6\"\"\"\n",
    "k=int(input())\n",
    "flag =0\n",
    "if k<=100000:\n",
    "    for i in range(1,k+1):\n",
    "        flag +=i\n",
    "    print(flag)"
   ]
  },
  {
   "cell_type": "code",
   "execution_count": null,
   "metadata": {},
   "outputs": [],
   "source": [
    "#primenumber\n",
    "\"\"\"Given a range of 2 numbers (i.e) L and R count the number of prime numbers in the range (inclusive of L and R ).\n",
    "Input Size : L <= R <= 100000(complexity O(n) read about Sieve of Eratosthenes)\n",
    "Sample Testcase :\n",
    "INPUT\n",
    "2 5\n",
    "OUTPUT\n",
    "3\"\"\"\n",
    "\n",
    "def is_prime(n):\n",
    "  if n<2:\n",
    "    return False\n",
    "  for j in range (2,int(n**0.5)+1):\n",
    "    if n%j==0:\n",
    "      return False\n",
    "  return True\n",
    "\n",
    "a,b=map(int,input().split())\n",
    "flag=0\n",
    "if a<=100000 and b<=100000:\n",
    "  for i in range (a,b+1): #3\n",
    "      if is_prime(i):\n",
    "        flag +=1\n",
    "        \n",
    "print(flag)\n",
    "    "
   ]
  },
  {
   "cell_type": "code",
   "execution_count": 1,
   "metadata": {},
   "outputs": [
    {
     "name": "stdout",
     "output_type": "stream",
     "text": [
      "c o d e\n"
     ]
    }
   ],
   "source": [
    "s = input()\n",
    "print (*s)"
   ]
  },
  {
   "cell_type": "code",
   "execution_count": null,
   "metadata": {},
   "outputs": [
    {
     "name": "stdout",
     "output_type": "stream",
     "text": [
      "2 1 4 3\n"
     ]
    }
   ],
   "source": [
    "\"\"\"Given an array of N elements switch(swap) the element with the adjacent element and print the output.\n",
    "Sample Testcase :\n",
    "INPUT\n",
    "5\n",
    "3 2 1 2 3\n",
    "OUTPUT\n",
    "2 3 2 1 3\n",
    "\n",
    "\"\"\"\n",
    "n=int(input())\n",
    "val = list(map(int,input().split()))\n",
    "if len(val)==n:\n",
    "    for i in range(0,len(val)-1,2):\n",
    "      val[i],val[i+1]=val[i+1],val[i]\n",
    "    print(*val)\n"
   ]
  },
  {
   "cell_type": "code",
   "execution_count": null,
   "metadata": {},
   "outputs": [],
   "source": [
    "a,b,c= map(int,input().split())\n",
    "if a<=100000 and b<=100000 and c<=100000:\n",
    "    if a!=b and a!=c and c!=b:\n",
    "      print(\"yes\")\n",
    "    else:\n",
    "      print(\"no\")"
   ]
  },
  {
   "cell_type": "code",
   "execution_count": null,
   "metadata": {},
   "outputs": [],
   "source": [
    "# ROCK / PAPER /SCISSOR\n",
    "\n",
    "val1,val2=map(str,input().split())\n",
    "a=0\n",
    "b=0\n",
    "if(val1==\"R\" and val2==\"P\")or(val1==\"R\" and val2==\"S\") or (val1==\"S\" and val2==\"P\"):\n",
    "  print(\"P\")\n",
    "elif val1==val2:\n",
    "  print(\"D\")"
   ]
  },
  {
   "cell_type": "code",
   "execution_count": null,
   "metadata": {},
   "outputs": [],
   "source": [
    "# using BITWISE AND\n",
    "\n",
    "\n",
    "n = input()\n",
    "val = list(map(int,input().split()))\n",
    "    \n",
    "def bitwise_and(val):\n",
    "    result = val[0]  # Start with the first element\n",
    "    for num in val[1:]:  # Iterate over the remaining elements\n",
    "        result &= num  # Perform bitwise AND\n",
    "    return result\n",
    "\n",
    "print(bitwise_and(val))"
   ]
  },
  {
   "cell_type": "code",
   "execution_count": null,
   "metadata": {},
   "outputs": [
    {
     "name": "stdout",
     "output_type": "stream",
     "text": [
      "no\n"
     ]
    }
   ],
   "source": [
    "# check whther it is triangle\n",
    "a,b,c = map(int,input().split())\n",
    "\n",
    "def triangle(a,b,c):\n",
    "    if a+b>c and a+c>b and b+c>a:\n",
    "        return \"yes\"\n",
    "    else :\n",
    "        return \"no\"\n",
    " \n",
    "print(triangle(a,b,c))"
   ]
  },
  {
   "cell_type": "code",
   "execution_count": 4,
   "metadata": {},
   "outputs": [
    {
     "name": "stdout",
     "output_type": "stream",
     "text": [
      "yes\n"
     ]
    }
   ],
   "source": [
    "# right angle triangle\n",
    "a,b,c = map(int,input().split())\n",
    "\n",
    "def rightangle_triangle(a,b,c):\n",
    "    if a**2 + b**2 == c**2:\n",
    "        return \"yes\"\n",
    "    else:\n",
    "        return \"no\"\n",
    "\n",
    "print(rightangle_triangle(a,b,c))"
   ]
  },
  {
   "cell_type": "code",
   "execution_count": null,
   "metadata": {},
   "outputs": [
    {
     "name": "stdout",
     "output_type": "stream",
     "text": [
      "3 2\n",
      "2\n"
     ]
    }
   ],
   "source": [
    "# smallest and largest number\n",
    "N = input()\n",
    "val = list(map(int,input().split()))\n",
    "def smallest(val):\n",
    "    for j in val[0:]:\n",
    "        for i in val[1:]:\n",
    "            print(j,i)\n",
    "            if j > i:\n",
    "                result =i\n",
    "                return result\n",
    "            else:\n",
    "                result = j\n",
    "                return result \n",
    "        \n",
    "print(smallest(val))\n",
    "\n",
    "# wrong\n"
   ]
  },
  {
   "cell_type": "code",
   "execution_count": null,
   "metadata": {},
   "outputs": [],
   "source": [
    "ef find_smallest_and_largest(N, arr):\n",
    "    # Initialize the smallest and largest values and their indices (1-based)\n",
    "    min_val = float('inf')\n",
    "    max_val = float('-inf')\n",
    "    min_index = -1\n",
    "    max_index = -1\n",
    "    \n",
    "    # Iterate through the list\n",
    "    for i in range(N):\n",
    "        if arr[i] < min_val:\n",
    "            min_val = arr[i]\n",
    "            min_index = i + 1  # 1-based indexing\n",
    "        if arr[i] > max_val:\n",
    "            max_val = arr[i]\n",
    "            max_index = i + 1  # 1-based indexing\n",
    "    \n",
    "    return min_index, max_index\n",
    "\n",
    "# Read input\n",
    "N = int(input())  # First input: size of array\n",
    "arr = list(map(int, input().split()))  # Second input: the array of numbers\n",
    "\n",
    "# Find smallest and largest indices\n",
    "min_idx, max_idx = find_smallest_and_largest(N, arr)\n",
    "\n",
    "# Print the result\n",
    "print(min_idx, max_idx)"
   ]
  },
  {
   "cell_type": "code",
   "execution_count": 1,
   "metadata": {},
   "outputs": [
    {
     "name": "stdout",
     "output_type": "stream",
     "text": [
      "World Hello\n"
     ]
    }
   ],
   "source": [
    "#input().strip() ensures that extra spaces at the start or end don’t interfere.\n",
    "#split() converts the string into a list of words.\n",
    "#[::-1] reverses the list.\n",
    "#' '.join(...) constructs the output string.\n",
    "\"\"\"Given a string S consisting of 2 words reverse the order of two words .\n",
    "Input Size : |S| <= 10000000\n",
    "Sample Testcase :\n",
    "INPUT\n",
    "hello world\n",
    "OUTPUT\n",
    "world hello\"\"\"\n",
    "\n",
    "def reverse_word(S):\n",
    "    return ' '.join(S.split()[::-1])\n",
    "\n",
    "S=input().strip()\n",
    "print(reverse_word(S))"
   ]
  },
  {
   "cell_type": "code",
   "execution_count": 4,
   "metadata": {},
   "outputs": [
    {
     "name": "stdout",
     "output_type": "stream",
     "text": [
      "5\n"
     ]
    }
   ],
   "source": [
    "\"\"\"Given 2 numbers N,M find the GCD of N and M.If it cannot be found for given number(s) then print -1\n",
    "Sample Testcase :\n",
    "INPUT\n",
    "10 5\n",
    "OUTPUT\n",
    "5\"\"\"\n",
    "\n",
    "import math\n",
    "\n",
    "def GCD_Number(N,M):\n",
    "   if N<=0 or M<=0:\n",
    "            return -1\n",
    "   return math.gcd(N,M)\n",
    "          \n",
    "N,M = list(map(int,input().split()))\n",
    "print(GCD_Number(N,M))\n"
   ]
  },
  {
   "cell_type": "code",
   "execution_count": 1,
   "metadata": {},
   "outputs": [
    {
     "name": "stdout",
     "output_type": "stream",
     "text": [
      "9999700002\n"
     ]
    }
   ],
   "source": [
    "\"\"\"You are given two numbers. Your task is to multiply the two numbers and print the answer.\n",
    "\n",
    "\n",
    "Input Description:\n",
    "You are given two numbers ‘n’ and ‘m’.\n",
    "\n",
    "Output Description:\n",
    "Print the multiplied answer\n",
    "\n",
    "Sample Input :\n",
    "99999 99998\n",
    "Sample Output :\n",
    "9999700002\"\"\"\n",
    "a,b = map(int,input().split())\n",
    "value = a*b\n",
    "print(value)\n"
   ]
  },
  {
   "cell_type": "code",
   "execution_count": null,
   "metadata": {},
   "outputs": [
    {
     "name": "stdout",
     "output_type": "stream",
     "text": [
      "no\n"
     ]
    }
   ],
   "source": [
    "\"\"\"Given a string S, print 'yes' if it has a vowel in it else print 'no'.\n",
    "Sample Testcase :\n",
    "INPUT\n",
    "codekata\n",
    "OUTPUT\n",
    "yes\"\"\"\n",
    "S = input()\n",
    "val = list(S)\n",
    "vowel = ['a','e','i','o','u']\n",
    "if any (char in vowel for char in val):\n",
    "    print(\"yes\")   \n",
    "else:\n",
    "     print(\"no\")\n",
    "        "
   ]
  },
  {
   "cell_type": "code",
   "execution_count": 14,
   "metadata": {},
   "outputs": [
    {
     "name": "stdout",
     "output_type": "stream",
     "text": [
      "ldgjhj ekjrgbjae\n"
     ]
    }
   ],
   "source": [
    "S= input()\n",
    "print(S)"
   ]
  },
  {
   "cell_type": "code",
   "execution_count": 22,
   "metadata": {},
   "outputs": [
    {
     "name": "stdout",
     "output_type": "stream",
     "text": [
      " m shry\n"
     ]
    }
   ],
   "source": [
    "\"\"\"You are given a string.Your task is to print only the consonants present in the string without affecting the sentence spacings if present. If no consonants are present print -1\n",
    "\n",
    "\n",
    "Input Description:\n",
    "You are given a string ‘s’.\n",
    "\n",
    "Output Description:\n",
    "Print only consonants.\n",
    "\n",
    "Sample Input :\n",
    "I am shrey \n",
    "Sample Output :\n",
    " m shry\"\"\"\n",
    "S = input()\n",
    "vowel = 'aeiouAEIOU'\n",
    "# Replace vowels with spaces while keeping consonants and other characters in place\n",
    "consonants = \"\".join(char if char not in vowel else \"\" for char in S)\n",
    "\n",
    "# Check if at least one consonant exists\n",
    "if any(char.isalpha() and char not in vowel for char in S):\n",
    "    print(consonants)\n",
    "else:\n",
    "    print(-1)\n"
   ]
  },
  {
   "cell_type": "code",
   "execution_count": null,
   "metadata": {},
   "outputs": [
    {
     "name": "stdout",
     "output_type": "stream",
     "text": [
      "0\n"
     ]
    }
   ],
   "source": [
    "\"\"\"ou are given a string made up of parenthesis only.Your task is to check whether parenthesis are balanced or not.If they are balanced print 1 else print 0\n",
    "\n",
    "\n",
    "Input Description:\n",
    "You are given a string ‘s’\n",
    "\n",
    "Output Description:\n",
    "Print 1 for balanced and 0 for imbalanced\n",
    "\n",
    "Sample Input :\n",
    "{({})}\n",
    "Sample Output :\n",
    "1\"\"\"\n",
    "def check_parenthesis(S):\n",
    "    stack = []\n",
    "    brackets = {')':'(','}':'{',']':'['}\n",
    "    for char in S:\n",
    "        if char in brackets.values():\n",
    "            stack.append(char)\n",
    "        elif char in brackets.keys():\n",
    "            if not stack:\n",
    "                return '0'\n",
    "            stack.pop()\n",
    "    \n",
    "    return '1' \n",
    "S = input()\n",
    "print(check_parenthesis(S))\n",
    "\n"
   ]
  },
  {
   "cell_type": "code",
   "execution_count": null,
   "metadata": {},
   "outputs": [
    {
     "name": "stdout",
     "output_type": "stream",
     "text": [
      "['3', '4', '5', '6', '4', '5']\n",
      "27\n"
     ]
    }
   ],
   "source": [
    "\"\"\"\n",
    "In XYZ country there is rule that car’s engine no. depends upon car’ number plate.\n",
    " Engine no is sum of all the integers present on car’s Number plate.The issuing authority has hired you in order to provide engine no. \n",
    " to the cars.Your task is to develop an algorithm which takes input as in form of string(Number plate) and gives back\n",
    "\n",
    "Engine number.\n",
    "\n",
    "\n",
    "Input Description:\n",
    "You are given a string ’s’\n",
    "\n",
    "Output Description:\n",
    "Print the engine number\n",
    "\n",
    "Sample Input :\n",
    "HR05-AA-2669\n",
    "Sample Output :\n",
    "28\"\"\"\n",
    "\n",
    "s = input()\n",
    "val = list(s)\n",
    "b=0\n",
    "numeric_values = [item for item in val if item.isnumeric()]\n",
    "\n",
    "for i in range(len(numeric_values)):\n",
    "    b +=  int(numeric_values[i])\n",
    "\n",
    "print(b)\n",
    "# b = []\n",
    "# print(val)\n",
    "# for i in val:\n",
    "#     if val.isnu"
   ]
  },
  {
   "cell_type": "code",
   "execution_count": 13,
   "metadata": {},
   "outputs": [
    {
     "name": "stdout",
     "output_type": "stream",
     "text": [
      "profIlE\n"
     ]
    }
   ],
   "source": [
    "\"\"\"\n",
    "Write a program to get a string S, Type of conversion (1 - Convert to Lowercase, 2 - Convert to Uppercase) T, and integer P . \n",
    "Convert the case of the letters in the positions which are multiples of P.(1 based indexing).\n",
    "\n",
    "\n",
    "Input Description:\n",
    "Given a string S, Type of conversion T, and integer P\n",
    "\n",
    "Output Description:\n",
    "Convert the case of the letters and print the string\n",
    "\n",
    "Sample Input :\n",
    "ProFiLe\n",
    "1\n",
    "2\n",
    "Sample Output :\n",
    "Profile\"\"\"\n",
    "\n",
    "def convert_case_by_position(s,T,P):\n",
    "    result = []\n",
    "    for i , char in enumerate(s,start=1):\n",
    "        if i%P==0:\n",
    "            if T==1 :\n",
    "                result.append(char.lower())\n",
    "            elif T==2:\n",
    "                result.append(char.upper())\n",
    "        else:\n",
    "            result.append(char)\n",
    "    return \"\".join(result)\n",
    "\n",
    "s = input().strip()\n",
    "T = int(input().strip())\n",
    "P = int(input().strip())\n",
    "output = convert_case_by_position(s,T,P)\n",
    "print(output)\n",
    "\n",
    "\n"
   ]
  },
  {
   "cell_type": "code",
   "execution_count": 18,
   "metadata": {},
   "outputs": [
    {
     "name": "stdout",
     "output_type": "stream",
     "text": [
      "esz gfc uyfv\n"
     ]
    }
   ],
   "source": [
    "\"\"\"\n",
    "Ria is a 5 year old girl. \n",
    "Her mother wants to teach her how to sort words in the same order that they appear in a dictionary. \n",
    "She decides to write a program to sort a given set of strings based on their alphabetical order. \n",
    "Help Ria’s mother to complete the program.\n",
    "\n",
    "Input Description:\n",
    "A set of N strings\n",
    "\n",
    "Output Description:\n",
    "Alphabetically sorted set of strings\n",
    "\n",
    "Sample Input :\n",
    "3\n",
    "InfinityWar EndGame Avengers\n",
    "Sample Output :\n",
    "Avengers EndGame InfinityWar\n",
    "\"\"\"\n",
    "n = int(input().strip())\n",
    "words = input().strip().split()\n",
    "words.sort()\n",
    "print(\" \".join(words))\n"
   ]
  }
 ],
 "metadata": {
  "kernelspec": {
   "display_name": "Python 3",
   "language": "python",
   "name": "python3"
  },
  "language_info": {
   "codemirror_mode": {
    "name": "ipython",
    "version": 3
   },
   "file_extension": ".py",
   "mimetype": "text/x-python",
   "name": "python",
   "nbconvert_exporter": "python",
   "pygments_lexer": "ipython3",
   "version": "3.12.8"
  }
 },
 "nbformat": 4,
 "nbformat_minor": 2
}
