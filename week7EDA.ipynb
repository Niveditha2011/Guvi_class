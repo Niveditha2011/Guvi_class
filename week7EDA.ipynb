{
 "cells": [
  {
   "cell_type": "code",
   "execution_count": 11,
   "metadata": {},
   "outputs": [],
   "source": [
    "import numpy as np\n",
    "import statistics as st"
   ]
  },
  {
   "cell_type": "code",
   "execution_count": 4,
   "metadata": {},
   "outputs": [],
   "source": [
    "#EDA 17/03\n",
    "a=[1,2,3,4,5,6,80,100,30,45,65,82,45]"
   ]
  },
  {
   "cell_type": "code",
   "execution_count": 5,
   "metadata": {},
   "outputs": [
    {
     "name": "stdout",
     "output_type": "stream",
     "text": [
      "36.0\n"
     ]
    }
   ],
   "source": [
    "print(np.average(a))"
   ]
  },
  {
   "cell_type": "code",
   "execution_count": null,
   "metadata": {},
   "outputs": [],
   "source": [
    "print(np.min(a),np.max(a))\n",
    "print(np.std(a))\n",
    "print(np.mean(a))\n",
    "print(np.median(a))\n",
    "print(np.var(a))\n",
    "print(np.percentile(a,25))\n",
    "print(np.percentile(a,90))\n",
    "print(np.percentile(a,50))"
   ]
  },
  {
   "cell_type": "code",
   "execution_count": 12,
   "metadata": {},
   "outputs": [
    {
     "name": "stdout",
     "output_type": "stream",
     "text": [
      "45\n"
     ]
    }
   ],
   "source": [
    "print(st.mode(a))"
   ]
  },
  {
   "cell_type": "code",
   "execution_count": 16,
   "metadata": {},
   "outputs": [
    {
     "name": "stdout",
     "output_type": "stream",
     "text": [
      "1\n"
     ]
    }
   ],
   "source": [
    "b=[1,1,1,1,1,1,1,2,2,2,2,2,2,2]\n",
    "print(st.mode(b))"
   ]
  },
  {
   "cell_type": "code",
   "execution_count": null,
   "metadata": {},
   "outputs": [],
   "source": [
    "#do a histogram plot with given data\n",
    "import matplotlib.pyplot as plt\n",
    "a=[1,2,3,4,5,6,80,100,30,45,65,45,70]\n",
    "plt.hist(a,bins=10) #Adjust no.of bins as needed\n",
    "# bins- given range evalo va divide aganum\n",
    "plt.xlabel('Values')\n",
    "plt.ylabel('Frequency')\n",
    "plt.title('Histogram of Data')\n",
    "plt.show()"
   ]
  },
  {
   "cell_type": "code",
   "execution_count": null,
   "metadata": {},
   "outputs": [],
   "source": [
    "# 18/03/2025\n",
    "#IQR"
   ]
  },
  {
   "cell_type": "code",
   "execution_count": 20,
   "metadata": {},
   "outputs": [
    {
     "data": {
      "text/html": [
       "<div>\n",
       "<style scoped>\n",
       "    .dataframe tbody tr th:only-of-type {\n",
       "        vertical-align: middle;\n",
       "    }\n",
       "\n",
       "    .dataframe tbody tr th {\n",
       "        vertical-align: top;\n",
       "    }\n",
       "\n",
       "    .dataframe thead th {\n",
       "        text-align: right;\n",
       "    }\n",
       "</style>\n",
       "<table border=\"1\" class=\"dataframe\">\n",
       "  <thead>\n",
       "    <tr style=\"text-align: right;\">\n",
       "      <th></th>\n",
       "      <th>Pregnancies</th>\n",
       "      <th>Glucose</th>\n",
       "      <th>BloodPressure</th>\n",
       "      <th>SkinThickness</th>\n",
       "      <th>Insulin</th>\n",
       "      <th>BMI</th>\n",
       "      <th>DiabetesPedigreeFunction</th>\n",
       "      <th>Age</th>\n",
       "      <th>Outcome</th>\n",
       "    </tr>\n",
       "  </thead>\n",
       "  <tbody>\n",
       "    <tr>\n",
       "      <th>0</th>\n",
       "      <td>6</td>\n",
       "      <td>148</td>\n",
       "      <td>72</td>\n",
       "      <td>35</td>\n",
       "      <td>0</td>\n",
       "      <td>33.6</td>\n",
       "      <td>0.627</td>\n",
       "      <td>50</td>\n",
       "      <td>1</td>\n",
       "    </tr>\n",
       "    <tr>\n",
       "      <th>1</th>\n",
       "      <td>1</td>\n",
       "      <td>85</td>\n",
       "      <td>66</td>\n",
       "      <td>29</td>\n",
       "      <td>0</td>\n",
       "      <td>26.6</td>\n",
       "      <td>0.351</td>\n",
       "      <td>31</td>\n",
       "      <td>0</td>\n",
       "    </tr>\n",
       "    <tr>\n",
       "      <th>2</th>\n",
       "      <td>8</td>\n",
       "      <td>183</td>\n",
       "      <td>64</td>\n",
       "      <td>0</td>\n",
       "      <td>0</td>\n",
       "      <td>23.3</td>\n",
       "      <td>0.672</td>\n",
       "      <td>32</td>\n",
       "      <td>1</td>\n",
       "    </tr>\n",
       "    <tr>\n",
       "      <th>3</th>\n",
       "      <td>1</td>\n",
       "      <td>89</td>\n",
       "      <td>66</td>\n",
       "      <td>23</td>\n",
       "      <td>94</td>\n",
       "      <td>28.1</td>\n",
       "      <td>0.167</td>\n",
       "      <td>21</td>\n",
       "      <td>0</td>\n",
       "    </tr>\n",
       "    <tr>\n",
       "      <th>4</th>\n",
       "      <td>0</td>\n",
       "      <td>137</td>\n",
       "      <td>40</td>\n",
       "      <td>35</td>\n",
       "      <td>168</td>\n",
       "      <td>43.1</td>\n",
       "      <td>2.288</td>\n",
       "      <td>33</td>\n",
       "      <td>1</td>\n",
       "    </tr>\n",
       "  </tbody>\n",
       "</table>\n",
       "</div>"
      ],
      "text/plain": [
       "   Pregnancies  Glucose  BloodPressure  SkinThickness  Insulin   BMI  \\\n",
       "0            6      148             72             35        0  33.6   \n",
       "1            1       85             66             29        0  26.6   \n",
       "2            8      183             64              0        0  23.3   \n",
       "3            1       89             66             23       94  28.1   \n",
       "4            0      137             40             35      168  43.1   \n",
       "\n",
       "   DiabetesPedigreeFunction  Age  Outcome  \n",
       "0                     0.627   50        1  \n",
       "1                     0.351   31        0  \n",
       "2                     0.672   32        1  \n",
       "3                     0.167   21        0  \n",
       "4                     2.288   33        1  "
      ]
     },
     "execution_count": 20,
     "metadata": {},
     "output_type": "execute_result"
    }
   ],
   "source": [
    "import pandas as pd\n",
    "df = pd.read_csv(r\"C:\\Users\\Python Class\\Guvi_Class\\diabetes (1).csv\")\n",
    "df.head()"
   ]
  },
  {
   "cell_type": "code",
   "execution_count": null,
   "metadata": {},
   "outputs": [],
   "source": [
    "df['BloodPressure'].hist(bins=20)"
   ]
  },
  {
   "cell_type": "code",
   "execution_count": null,
   "metadata": {},
   "outputs": [],
   "source": [
    "df.describe()"
   ]
  },
  {
   "cell_type": "code",
   "execution_count": null,
   "metadata": {},
   "outputs": [],
   "source": [
    "df.std()"
   ]
  },
  {
   "cell_type": "code",
   "execution_count": null,
   "metadata": {},
   "outputs": [],
   "source": [
    "df.mean()"
   ]
  },
  {
   "cell_type": "code",
   "execution_count": null,
   "metadata": {},
   "outputs": [],
   "source": [
    "df.median()"
   ]
  },
  {
   "cell_type": "code",
   "execution_count": null,
   "metadata": {},
   "outputs": [],
   "source": [
    "df.var()"
   ]
  },
  {
   "cell_type": "code",
   "execution_count": 31,
   "metadata": {},
   "outputs": [
    {
     "name": "stdout",
     "output_type": "stream",
     "text": [
      "0.9882\n"
     ]
    }
   ],
   "source": [
    "import numpy as np\n",
    "import statistics as s\n",
    "# POSITIVE CORRELATION - DAYS INCREASE DISTANCE INCREASE\n",
    "orbital_period = [88, 225, 365, 687, 4331, 10756, 30687, 60190]    #no.od days - planets take to revolve the sun \n",
    "dist_from_sun = [58, 108, 150, 228, 778, 1400, 2900,4500] # distance between sun and planet\n",
    "# Observe that a linear relationship is imperfect\n",
    "print(round(s.correlation(orbital_period, dist_from_sun), 4))"
   ]
  },
  {
   "cell_type": "code",
   "execution_count": 32,
   "metadata": {},
   "outputs": [
    {
     "name": "stdout",
     "output_type": "stream",
     "text": [
      "0.9882\n",
      "72.5\n",
      "117.5\n",
      "45.0\n",
      "95.0\n",
      "95.0\n"
     ]
    }
   ],
   "source": [
    "import numpy as np\n",
    "import statistics as s\n",
    "orbital_period = [88, 225, 365, 687, 4331, 10756, 30687, 60190]    # days\n",
    "dist_from_sun = [58, 108, 150, 228, 778, 1400, 2900,4500] # million km\n",
    "# Observe that a linear relationship is imperfect\n",
    "print(round(s.correlation(orbital_period, dist_from_sun), 4))\n",
    "\n",
    "d1 = [50, 60, 70, 80, 90, 100, 110, 120, 130, 140]\n",
    "\n",
    "#IQR using Numpy\n",
    "Q1 = np.percentile(d1, 25)\n",
    "print(Q1)\n",
    "# Third quartile (Q3)\n",
    "Q3 = np.percentile(d1, 75)\n",
    "print(Q3)\n",
    "# Interquaritle range (IQR)\n",
    "IQR = Q3 - Q1\n",
    "print(IQR)\n",
    "\n",
    "Q4 = np.percentile(d1, 50)\n",
    "print(Q4)\n",
    "\n",
    "med = np.median(d1)\n",
    "print(med)"
   ]
  },
  {
   "cell_type": "code",
   "execution_count": null,
   "metadata": {},
   "outputs": [],
   "source": [
    "import matplotlib.pyplot as plt\n",
    "\n",
    "# Sample data (replace this with your own dataset)\n",
    "d1 = [50, 60, 70, 80, 90, 100, 110, 120, 130, 140]\n",
    "\n",
    "# Create a box plot\n",
    "plt.boxplot(d1)\n",
    "\n",
    "# Add labels and a title\n",
    "plt.xlabel('X-axis Label')\n",
    "plt.ylabel('Y-axis Label')\n",
    "plt.title('Box Plot Example')\n",
    "\n",
    "\n",
    "# Show the plot\n",
    "plt.show()\n",
    "\n",
    "\n",
    "# orange line is media / percentile\n",
    "# box is where majority of values lies\n",
    "# max and min value are edges"
   ]
  },
  {
   "cell_type": "code",
   "execution_count": null,
   "metadata": {},
   "outputs": [],
   "source": [
    "!pip install seaborn"
   ]
  },
  {
   "cell_type": "code",
   "execution_count": null,
   "metadata": {},
   "outputs": [],
   "source": [
    "#COORELATION - RELATIONSHIP BETWEEN TWO ENTITY\n",
    "\n",
    "# prompt: Generate correlation heatmap for df\n",
    "import seaborn as sns\n",
    "import matplotlib.pyplot as plt\n",
    "\n",
    "# Assuming 'df' is your DataFrame\n",
    "correlation_matrix = df.corr()\n",
    "\n",
    "plt.figure(figsize=(6, 5)) # Adjust figure size as needed\n",
    "sns.heatmap(correlation_matrix, annot=True, cmap='coolwarm', fmt=\".2f\")\n",
    "plt.title('Correlation Matrix Heatmap')\n",
    "plt.show()"
   ]
  },
  {
   "cell_type": "code",
   "execution_count": null,
   "metadata": {},
   "outputs": [],
   "source": []
  },
  {
   "cell_type": "code",
   "execution_count": null,
   "metadata": {},
   "outputs": [],
   "source": []
  },
  {
   "cell_type": "code",
   "execution_count": null,
   "metadata": {},
   "outputs": [],
   "source": [
    "#20/03/25"
   ]
  },
  {
   "cell_type": "code",
   "execution_count": null,
   "metadata": {},
   "outputs": [],
   "source": [
    "!pip install scipy"
   ]
  },
  {
   "cell_type": "code",
   "execution_count": null,
   "metadata": {},
   "outputs": [],
   "source": [
    "import pandas as pd\n",
    "df=pd.read_csv('https://raw.githubusercontent.com/nethajinirmal13/Training-datasets/main/cs1%20(1).csv')\n",
    "df.shape\n",
    "df\n"
   ]
  },
  {
   "cell_type": "code",
   "execution_count": 7,
   "metadata": {},
   "outputs": [
    {
     "name": "stdout",
     "output_type": "stream",
     "text": [
      "car     NO  YES\n",
      "gender         \n",
      "FEMALE  91   69\n",
      "MALE    83   87\n",
      "Chi2ContingencyResult(statistic=np.float64(1.8328260307770345), pvalue=np.float64(0.17579411321368288), dof=1, expected_freq=array([[84.36363636, 75.63636364],\n",
      "       [89.63636364, 80.36363636]]))\n"
     ]
    }
   ],
   "source": [
    "#For categorical columns - chi2 test\n",
    "import scipy.stats as st\n",
    "a=pd.crosstab(df['gender'],df['car'])\n",
    "print(a)\n",
    "#\n",
    "print(st.chi2_contingency(a))\n",
    "#H0 - There is no dependency between gender and car\n",
    "#H0 - Independent - fails to reject"
   ]
  },
  {
   "cell_type": "code",
   "execution_count": 8,
   "metadata": {},
   "outputs": [
    {
     "name": "stdout",
     "output_type": "stream",
     "text": [
      "Chi2ContingencyResult(statistic=np.float64(4.203725620315688), pvalue=np.float64(0.040335270903050946), dof=1, expected_freq=array([[88.24242424, 71.75757576],\n",
      "       [93.75757576, 76.24242424]]))\n"
     ]
    }
   ],
   "source": [
    "a=pd.crosstab(df['gender'],df['pl'])\n",
    "print(st.chi2_contingency(a))"
   ]
  },
  {
   "cell_type": "code",
   "execution_count": 9,
   "metadata": {},
   "outputs": [
    {
     "name": "stdout",
     "output_type": "stream",
     "text": [
      "Chi2ContingencyResult(statistic=np.float64(0.3014938626660344), pvalue=np.float64(0.9597472806367656), dof=3, expected_freq=array([[75.15151515, 26.18181818, 12.12121212, 46.54545455],\n",
      "       [79.84848485, 27.81818182, 12.87878788, 49.45454545]]))\n"
     ]
    }
   ],
   "source": [
    "a=pd.crosstab(df['gender'],df['region'])\n",
    "print(st.chi2_contingency(a))"
   ]
  },
  {
   "cell_type": "code",
   "execution_count": null,
   "metadata": {},
   "outputs": [],
   "source": []
  },
  {
   "cell_type": "code",
   "execution_count": null,
   "metadata": {},
   "outputs": [],
   "source": [
    "#DATA VISUALISATION"
   ]
  },
  {
   "cell_type": "code",
   "execution_count": null,
   "metadata": {},
   "outputs": [],
   "source": [
    "#plot\n",
    "#bar plot\n",
    "#Line\n",
    "#box\n",
    "# scatter\n",
    "#pie\n",
    "# geo plot"
   ]
  },
  {
   "cell_type": "code",
   "execution_count": null,
   "metadata": {},
   "outputs": [],
   "source": [
    "#LINE PLOT\n",
    "#MAT_PLOT\n",
    "#just to start with\n",
    "import matplotlib.pyplot as plt\n",
    "#plt.plot([1, 2, 6, 4])\n",
    "plt.plot([1, 2, 6, 4],color='red',linewidth=3) # to change color and width of the line\n",
    "plt.plot([1, 2, 5, 9],color='red',linewidth=3) \n",
    "plt.ylabel('guvi') # y axis\n",
    "plt.xlabel(\"something\") # x axis\n",
    "plt.show()"
   ]
  },
  {
   "cell_type": "code",
   "execution_count": null,
   "metadata": {},
   "outputs": [],
   "source": [
    "#BAR CHART\n",
    "# prompt: could change the plot into barchart\n",
    "import matplotlib.pyplot as plt\n",
    "\n",
    "plt.bar([1, 2, 3, 4], [1, 2, 6, 4]) # Changed plot to bar chart\n",
    "plt.ylabel('guvi')\n",
    "plt.xlabel(\"something\")\n",
    "plt.show()"
   ]
  },
  {
   "cell_type": "code",
   "execution_count": null,
   "metadata": {},
   "outputs": [],
   "source": [
    "#MAT_PLOT\n",
    "#just to start with\n",
    "plt.bar([1, 2, 6, 4], [1, 2, 3, 4], color='red') # Changed plot to bar chart and color to red\n",
    "plt.ylabel('guvi')\n",
    "plt.xlabel(\"something\")\n",
    "plt.show()"
   ]
  },
  {
   "cell_type": "code",
   "execution_count": null,
   "metadata": {},
   "outputs": [],
   "source": [
    "#BAR CHART PLOTTING\n",
    "import matplotlib.pyplot as plt\n",
    "objects = ('Python', 'C++', 'Java', 'Perl', 'Scala')\n",
    "performance = [10,8,6,4,2]\n",
    "plt.figure(facecolor='#ccd92a') # WHOLE \n",
    "\n",
    "neth=plt.axes()\n",
    "neth.set_facecolor(\"#66C328\") # ONLY AXES\n",
    "\n",
    "bars = plt.bar(objects, performance, align='edge', alpha=0.5,color=\"#000\",width=0.5,hatch=\"0\")\n",
    "plt.ylabel(\"USAGE\")\n",
    "plt.legend(bars, objects)\n",
    "plt.title(\"programming language usage\")\n",
    "plt.show()\n"
   ]
  },
  {
   "cell_type": "code",
   "execution_count": null,
   "metadata": {},
   "outputs": [],
   "source": [
    "import matplotlib.pyplot as plt\n",
    "\n",
    "objects = ('Python', 'C++', 'Java', 'Perl', 'Scala')\n",
    "performance = [10, 8, 6, 4, 2]\n",
    "\n",
    "# Create a figure with yellow background\n",
    "plt.figure(facecolor='yellow')\n",
    "\n",
    "# Set the axes background color\n",
    "ax = plt.axes()\n",
    "ax.set_facecolor(\"#66C328\")\n",
    "\n",
    "# Bar colors and hatches for individual distinction\n",
    "colors = ['#FF5733', '#33C1FF', '#FF33BF', '#FFC733', '#8533FF']\n",
    "hatches = ['*', '//', 'xx', 'o', '\\\\\\\\']\n",
    "\n",
    "# Plot each bar separately to have distinct legends\n",
    "for obj, perf, color, hatch in zip(objects, performance, colors, hatches):\n",
    "    plt.bar(obj, perf, align='edge', alpha=0.7, color=color, width=0.5, hatch=hatch, label=obj)\n",
    "\n",
    "# Labeling the Y-axis\n",
    "plt.ylabel(\"USAGE\")\n",
    "\n",
    "# Adding title\n",
    "plt.title(\"Programming Language Usage\")\n",
    "\n",
    "# Display all legends\n",
    "plt.legend(title=\"Languages\")\n",
    "\n",
    "# Show plot\n",
    "plt.show()\n"
   ]
  },
  {
   "cell_type": "code",
   "execution_count": null,
   "metadata": {},
   "outputs": [
    {
     "data": {
      "text/plain": [
       "Text(0.5, 1.0, '2019 Olympics Top Scorers')"
      ]
     },
     "execution_count": 39,
     "metadata": {},
     "output_type": "execute_result"
    },
    {
     "data": {
      "image/png": "[encoded data removed]",
      "text/plain": [
       "<Figure size 640x480 with 1 Axes>"
      ]
     },
     "metadata": {},
     "output_type": "display_data"
    }
   ],
   "source": [
    "# stacked bar plot\n",
    "from matplotlib import pyplot as plt\n",
    "import numpy as np\n",
    "\n",
    "countries = ['USA', 'India', 'China', 'Russia', 'Germany']\n",
    "bronzes = np.array([38, 17, 26, 19, 15])\n",
    "silvers = np.array([37, 23, 18, 18, 10])\n",
    "golds = np.array([46, 27, 26, 19, 17])\n",
    "\n",
    "plt.bar(countries, golds, width=0.5, label='golds', color='gold', bottom=silvers+bronzes)\n",
    "plt.bar(countries, silvers, width=0.5, label='silvers', color='silver', bottom=bronzes)\n",
    "plt.bar(countries, bronzes, width=0.5, label='bronzes', color='#CD853F')\n",
    "\n",
    "plt.ylabel(\"Medals\")\n",
    "plt.xlabel(\"Countries\")\n",
    "plt.legend(loc=\"upper right\")\n",
    "plt.title(\"2019 Olympics Top Scorers\")"
   ]
  },
  {
   "cell_type": "code",
   "execution_count": null,
   "metadata": {},
   "outputs": [],
   "source": [
    "from matplotlib import pyplot as plt\n",
    "import numpy as np\n",
    "\n",
    "countries = ['USA', 'India', 'China', 'Russia', 'Germany']\n",
    "bronzes = np.array([38, 17, 26, 19, 15])\n",
    "silvers = np.array([37, 23, 18, 18, 10])\n",
    "golds = np.array([46, 27, 26, 19, 17])\n",
    "\n",
    "plt.bar(countries, golds, width=0.5, label='golds', color='gold', bottom=silvers+bronzes)\n",
    "plt.bar(countries, silvers, width=0.5, label='silvers', color='silver', bottom=bronzes)\n",
    "plt.bar(countries, bronzes, width=0.5, label='bronzes', color='#CD853F')\n",
    "\n",
    "plt.ylabel(\"Medals\")\n",
    "plt.xlabel(\"Countries\")\n",
    "plt.legend(loc=\"upper right\")\n",
    "plt.title(\"2019 Olympics Top Scorers\")"
   ]
  },
  {
   "cell_type": "code",
   "execution_count": 58,
   "metadata": {},
   "outputs": [
    {
     "data": {
      "text/html": [
       "<div>\n",
       "<style scoped>\n",
       "    .dataframe tbody tr th:only-of-type {\n",
       "        vertical-align: middle;\n",
       "    }\n",
       "\n",
       "    .dataframe tbody tr th {\n",
       "        vertical-align: top;\n",
       "    }\n",
       "\n",
       "    .dataframe thead th {\n",
       "        text-align: right;\n",
       "    }\n",
       "</style>\n",
       "<table border=\"1\" class=\"dataframe\">\n",
       "  <thead>\n",
       "    <tr style=\"text-align: right;\">\n",
       "      <th></th>\n",
       "      <th>Country</th>\n",
       "      <th>Gold</th>\n",
       "      <th>Silver</th>\n",
       "      <th>Bronze</th>\n",
       "      <th>Total</th>\n",
       "      <th>Year</th>\n",
       "      <th>Venue</th>\n",
       "    </tr>\n",
       "  </thead>\n",
       "  <tbody>\n",
       "    <tr>\n",
       "      <th>0</th>\n",
       "      <td>Australia</td>\n",
       "      <td>3.0</td>\n",
       "      <td>4.0</td>\n",
       "      <td>1.0</td>\n",
       "      <td>8.0</td>\n",
       "      <td>1930</td>\n",
       "      <td>Hamilton</td>\n",
       "    </tr>\n",
       "    <tr>\n",
       "      <th>1</th>\n",
       "      <td>Bermuda</td>\n",
       "      <td>NaN</td>\n",
       "      <td>NaN</td>\n",
       "      <td>NaN</td>\n",
       "      <td>NaN</td>\n",
       "      <td>1930</td>\n",
       "      <td>Hamilton</td>\n",
       "    </tr>\n",
       "    <tr>\n",
       "      <th>2</th>\n",
       "      <td>Canada</td>\n",
       "      <td>20.0</td>\n",
       "      <td>15.0</td>\n",
       "      <td>19.0</td>\n",
       "      <td>54.0</td>\n",
       "      <td>1930</td>\n",
       "      <td>Hamilton</td>\n",
       "    </tr>\n",
       "    <tr>\n",
       "      <th>3</th>\n",
       "      <td>England</td>\n",
       "      <td>25.0</td>\n",
       "      <td>23.0</td>\n",
       "      <td>13.0</td>\n",
       "      <td>61.0</td>\n",
       "      <td>1930</td>\n",
       "      <td>Hamilton</td>\n",
       "    </tr>\n",
       "    <tr>\n",
       "      <th>4</th>\n",
       "      <td>Guyana</td>\n",
       "      <td>NaN</td>\n",
       "      <td>1.0</td>\n",
       "      <td>1.0</td>\n",
       "      <td>2.0</td>\n",
       "      <td>1930</td>\n",
       "      <td>Hamilton</td>\n",
       "    </tr>\n",
       "    <tr>\n",
       "      <th>5</th>\n",
       "      <td>New Zealand</td>\n",
       "      <td>3.0</td>\n",
       "      <td>4.0</td>\n",
       "      <td>2.0</td>\n",
       "      <td>9.0</td>\n",
       "      <td>1930</td>\n",
       "      <td>Hamilton</td>\n",
       "    </tr>\n",
       "    <tr>\n",
       "      <th>6</th>\n",
       "      <td>Newfoundland</td>\n",
       "      <td>NaN</td>\n",
       "      <td>NaN</td>\n",
       "      <td>NaN</td>\n",
       "      <td>NaN</td>\n",
       "      <td>1930</td>\n",
       "      <td>Hamilton</td>\n",
       "    </tr>\n",
       "    <tr>\n",
       "      <th>7</th>\n",
       "      <td>Northern Ireland</td>\n",
       "      <td>NaN</td>\n",
       "      <td>1.0</td>\n",
       "      <td>NaN</td>\n",
       "      <td>1.0</td>\n",
       "      <td>1930</td>\n",
       "      <td>Hamilton</td>\n",
       "    </tr>\n",
       "    <tr>\n",
       "      <th>8</th>\n",
       "      <td>Scotland</td>\n",
       "      <td>2.0</td>\n",
       "      <td>3.0</td>\n",
       "      <td>5.0</td>\n",
       "      <td>10.0</td>\n",
       "      <td>1930</td>\n",
       "      <td>Hamilton</td>\n",
       "    </tr>\n",
       "    <tr>\n",
       "      <th>9</th>\n",
       "      <td>South Africa</td>\n",
       "      <td>6.0</td>\n",
       "      <td>4.0</td>\n",
       "      <td>7.0</td>\n",
       "      <td>17.0</td>\n",
       "      <td>1930</td>\n",
       "      <td>Hamilton</td>\n",
       "    </tr>\n",
       "  </tbody>\n",
       "</table>\n",
       "</div>"
      ],
      "text/plain": [
       "            Country  Gold  Silver  Bronze  Total  Year      Venue\n",
       "0         Australia   3.0     4.0     1.0    8.0  1930  Hamilton \n",
       "1           Bermuda   NaN     NaN     NaN    NaN  1930  Hamilton \n",
       "2            Canada  20.0    15.0    19.0   54.0  1930  Hamilton \n",
       "3           England  25.0    23.0    13.0   61.0  1930  Hamilton \n",
       "4            Guyana   NaN     1.0     1.0    2.0  1930  Hamilton \n",
       "5       New Zealand   3.0     4.0     2.0    9.0  1930  Hamilton \n",
       "6      Newfoundland   NaN     NaN     NaN    NaN  1930  Hamilton \n",
       "7  Northern Ireland   NaN     1.0     NaN    1.0  1930  Hamilton \n",
       "8          Scotland   2.0     3.0     5.0   10.0  1930  Hamilton \n",
       "9      South Africa   6.0     4.0     7.0   17.0  1930  Hamilton "
      ]
     },
     "execution_count": 58,
     "metadata": {},
     "output_type": "execute_result"
    }
   ],
   "source": [
    "import pandas as pd\n",
    "df=pd.read_csv(\"https://raw.githubusercontent.com/nethajinirmal13/Training-datasets/main/COMMONWEALTH%20GAMES%201930-2018%20%20-%20MEDAL%20TALLY.csv\",na_values=['-'])\n",
    "df.head(10)"
   ]
  },
  {
   "cell_type": "code",
   "execution_count": 60,
   "metadata": {},
   "outputs": [
    {
     "name": "stdout",
     "output_type": "stream",
     "text": [
      "float64\n"
     ]
    }
   ],
   "source": [
    "# df['Total'].info()\n",
    "# Convert 'Total' column to numeric\n",
    "df['Total'] = pd.to_numeric(df['Total'], errors='coerce')\n",
    "print(df['Total'].dtype)# Check data type\n"
   ]
  }
 ],
 "metadata": {
  "kernelspec": {
   "display_name": "Python 3",
   "language": "python",
   "name": "python3"
  },
  "language_info": {
   "codemirror_mode": {
    "name": "ipython",
    "version": 3
   },
   "file_extension": ".py",
   "mimetype": "text/x-python",
   "name": "python",
   "nbconvert_exporter": "python",
   "pygments_lexer": "ipython3",
   "version": "3.12.8"
  }
 },
 "nbformat": 4,
 "nbformat_minor": 2
}
